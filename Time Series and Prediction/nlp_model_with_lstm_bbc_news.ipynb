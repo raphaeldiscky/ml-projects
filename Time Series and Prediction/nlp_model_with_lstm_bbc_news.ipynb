{
  "nbformat": 4,
  "nbformat_minor": 0,
  "metadata": {
    "colab": {
      "name": "NLP-model-with-LSTM.ipynb",
      "provenance": [],
      "collapsed_sections": [],
      "authorship_tag": "ABX9TyNPMSEkVV3r8c6ZOGuCiDdq",
      "include_colab_link": true
    },
    "kernelspec": {
      "name": "python3",
      "display_name": "Python 3"
    },
    "language_info": {
      "name": "python"
    }
  },
  "cells": [
    {
      "cell_type": "markdown",
      "metadata": {
        "id": "view-in-github",
        "colab_type": "text"
      },
      "source": [
        "<a href=\"https://colab.research.google.com/github/raphaeldiscky/ml-projects/blob/main/NLP%20model%20with%20LSTM.ipynb\" target=\"_parent\"><img src=\"https://colab.research.google.com/assets/colab-badge.svg\" alt=\"Open In Colab\"/></a>"
      ]
    },
    {
      "cell_type": "code",
      "metadata": {
        "colab": {
          "base_uri": "https://localhost:8080/",
          "height": 203
        },
        "id": "kdz1DyeazFqr",
        "outputId": "bd994aa9-983c-44cb-b9ee-34f2a46c4450"
      },
      "source": [
        "import pandas as pd\n",
        "\n",
        "df = pd.read_csv('bbc-text.csv')\n",
        "df.head()"
      ],
      "execution_count": 1,
      "outputs": [
        {
          "output_type": "execute_result",
          "data": {
            "text/html": [
              "<div>\n",
              "<style scoped>\n",
              "    .dataframe tbody tr th:only-of-type {\n",
              "        vertical-align: middle;\n",
              "    }\n",
              "\n",
              "    .dataframe tbody tr th {\n",
              "        vertical-align: top;\n",
              "    }\n",
              "\n",
              "    .dataframe thead th {\n",
              "        text-align: right;\n",
              "    }\n",
              "</style>\n",
              "<table border=\"1\" class=\"dataframe\">\n",
              "  <thead>\n",
              "    <tr style=\"text-align: right;\">\n",
              "      <th></th>\n",
              "      <th>category</th>\n",
              "      <th>text</th>\n",
              "    </tr>\n",
              "  </thead>\n",
              "  <tbody>\n",
              "    <tr>\n",
              "      <th>0</th>\n",
              "      <td>tech</td>\n",
              "      <td>tv future in the hands of viewers with home th...</td>\n",
              "    </tr>\n",
              "    <tr>\n",
              "      <th>1</th>\n",
              "      <td>business</td>\n",
              "      <td>worldcom boss  left books alone  former worldc...</td>\n",
              "    </tr>\n",
              "    <tr>\n",
              "      <th>2</th>\n",
              "      <td>sport</td>\n",
              "      <td>tigers wary of farrell  gamble  leicester say ...</td>\n",
              "    </tr>\n",
              "    <tr>\n",
              "      <th>3</th>\n",
              "      <td>sport</td>\n",
              "      <td>yeading face newcastle in fa cup premiership s...</td>\n",
              "    </tr>\n",
              "    <tr>\n",
              "      <th>4</th>\n",
              "      <td>entertainment</td>\n",
              "      <td>ocean s twelve raids box office ocean s twelve...</td>\n",
              "    </tr>\n",
              "  </tbody>\n",
              "</table>\n",
              "</div>"
            ],
            "text/plain": [
              "        category                                               text\n",
              "0           tech  tv future in the hands of viewers with home th...\n",
              "1       business  worldcom boss  left books alone  former worldc...\n",
              "2          sport  tigers wary of farrell  gamble  leicester say ...\n",
              "3          sport  yeading face newcastle in fa cup premiership s...\n",
              "4  entertainment  ocean s twelve raids box office ocean s twelve..."
            ]
          },
          "metadata": {
            "tags": []
          },
          "execution_count": 1
        }
      ]
    },
    {
      "cell_type": "code",
      "metadata": {
        "colab": {
          "base_uri": "https://localhost:8080/",
          "height": 417
        },
        "id": "CkisfdsOzVQJ",
        "outputId": "513b5255-3f57-4374-cd73-f45bd16859ab"
      },
      "source": [
        "# one hot encoding \n",
        "category = pd.get_dummies(df.category)\n",
        "df_new = pd.concat([df, category], axis=1)\n",
        "df_new = df_new.drop(columns='category')\n",
        "df_new"
      ],
      "execution_count": 2,
      "outputs": [
        {
          "output_type": "execute_result",
          "data": {
            "text/html": [
              "<div>\n",
              "<style scoped>\n",
              "    .dataframe tbody tr th:only-of-type {\n",
              "        vertical-align: middle;\n",
              "    }\n",
              "\n",
              "    .dataframe tbody tr th {\n",
              "        vertical-align: top;\n",
              "    }\n",
              "\n",
              "    .dataframe thead th {\n",
              "        text-align: right;\n",
              "    }\n",
              "</style>\n",
              "<table border=\"1\" class=\"dataframe\">\n",
              "  <thead>\n",
              "    <tr style=\"text-align: right;\">\n",
              "      <th></th>\n",
              "      <th>text</th>\n",
              "      <th>business</th>\n",
              "      <th>entertainment</th>\n",
              "      <th>politics</th>\n",
              "      <th>sport</th>\n",
              "      <th>tech</th>\n",
              "    </tr>\n",
              "  </thead>\n",
              "  <tbody>\n",
              "    <tr>\n",
              "      <th>0</th>\n",
              "      <td>tv future in the hands of viewers with home th...</td>\n",
              "      <td>0</td>\n",
              "      <td>0</td>\n",
              "      <td>0</td>\n",
              "      <td>0</td>\n",
              "      <td>1</td>\n",
              "    </tr>\n",
              "    <tr>\n",
              "      <th>1</th>\n",
              "      <td>worldcom boss  left books alone  former worldc...</td>\n",
              "      <td>1</td>\n",
              "      <td>0</td>\n",
              "      <td>0</td>\n",
              "      <td>0</td>\n",
              "      <td>0</td>\n",
              "    </tr>\n",
              "    <tr>\n",
              "      <th>2</th>\n",
              "      <td>tigers wary of farrell  gamble  leicester say ...</td>\n",
              "      <td>0</td>\n",
              "      <td>0</td>\n",
              "      <td>0</td>\n",
              "      <td>1</td>\n",
              "      <td>0</td>\n",
              "    </tr>\n",
              "    <tr>\n",
              "      <th>3</th>\n",
              "      <td>yeading face newcastle in fa cup premiership s...</td>\n",
              "      <td>0</td>\n",
              "      <td>0</td>\n",
              "      <td>0</td>\n",
              "      <td>1</td>\n",
              "      <td>0</td>\n",
              "    </tr>\n",
              "    <tr>\n",
              "      <th>4</th>\n",
              "      <td>ocean s twelve raids box office ocean s twelve...</td>\n",
              "      <td>0</td>\n",
              "      <td>1</td>\n",
              "      <td>0</td>\n",
              "      <td>0</td>\n",
              "      <td>0</td>\n",
              "    </tr>\n",
              "    <tr>\n",
              "      <th>...</th>\n",
              "      <td>...</td>\n",
              "      <td>...</td>\n",
              "      <td>...</td>\n",
              "      <td>...</td>\n",
              "      <td>...</td>\n",
              "      <td>...</td>\n",
              "    </tr>\n",
              "    <tr>\n",
              "      <th>2220</th>\n",
              "      <td>cars pull down us retail figures us retail sal...</td>\n",
              "      <td>1</td>\n",
              "      <td>0</td>\n",
              "      <td>0</td>\n",
              "      <td>0</td>\n",
              "      <td>0</td>\n",
              "    </tr>\n",
              "    <tr>\n",
              "      <th>2221</th>\n",
              "      <td>kilroy unveils immigration policy ex-chatshow ...</td>\n",
              "      <td>0</td>\n",
              "      <td>0</td>\n",
              "      <td>1</td>\n",
              "      <td>0</td>\n",
              "      <td>0</td>\n",
              "    </tr>\n",
              "    <tr>\n",
              "      <th>2222</th>\n",
              "      <td>rem announce new glasgow concert us band rem h...</td>\n",
              "      <td>0</td>\n",
              "      <td>1</td>\n",
              "      <td>0</td>\n",
              "      <td>0</td>\n",
              "      <td>0</td>\n",
              "    </tr>\n",
              "    <tr>\n",
              "      <th>2223</th>\n",
              "      <td>how political squabbles snowball it s become c...</td>\n",
              "      <td>0</td>\n",
              "      <td>0</td>\n",
              "      <td>1</td>\n",
              "      <td>0</td>\n",
              "      <td>0</td>\n",
              "    </tr>\n",
              "    <tr>\n",
              "      <th>2224</th>\n",
              "      <td>souness delight at euro progress boss graeme s...</td>\n",
              "      <td>0</td>\n",
              "      <td>0</td>\n",
              "      <td>0</td>\n",
              "      <td>1</td>\n",
              "      <td>0</td>\n",
              "    </tr>\n",
              "  </tbody>\n",
              "</table>\n",
              "<p>2225 rows × 6 columns</p>\n",
              "</div>"
            ],
            "text/plain": [
              "                                                   text  business  ...  sport  tech\n",
              "0     tv future in the hands of viewers with home th...         0  ...      0     1\n",
              "1     worldcom boss  left books alone  former worldc...         1  ...      0     0\n",
              "2     tigers wary of farrell  gamble  leicester say ...         0  ...      1     0\n",
              "3     yeading face newcastle in fa cup premiership s...         0  ...      1     0\n",
              "4     ocean s twelve raids box office ocean s twelve...         0  ...      0     0\n",
              "...                                                 ...       ...  ...    ...   ...\n",
              "2220  cars pull down us retail figures us retail sal...         1  ...      0     0\n",
              "2221  kilroy unveils immigration policy ex-chatshow ...         0  ...      0     0\n",
              "2222  rem announce new glasgow concert us band rem h...         0  ...      0     0\n",
              "2223  how political squabbles snowball it s become c...         0  ...      0     0\n",
              "2224  souness delight at euro progress boss graeme s...         0  ...      1     0\n",
              "\n",
              "[2225 rows x 6 columns]"
            ]
          },
          "metadata": {
            "tags": []
          },
          "execution_count": 2
        }
      ]
    },
    {
      "cell_type": "code",
      "metadata": {
        "id": "l1VUDxxkzsBh"
      },
      "source": [
        "# convert dataframe value to numpy array\n",
        "text = df_new['text'].values\n",
        "label = df_new[['business', 'entertainment','politics','sport','tech']].values"
      ],
      "execution_count": 3,
      "outputs": []
    },
    {
      "cell_type": "code",
      "metadata": {
        "id": "ltA_SZjTz-pw"
      },
      "source": [
        "# create training and testing data\n",
        "from sklearn.model_selection import train_test_split\n",
        "\n",
        "text_train, text_test, label_train, label_test = train_test_split(text, label, test_size=0.2)"
      ],
      "execution_count": 4,
      "outputs": []
    },
    {
      "cell_type": "code",
      "metadata": {
        "id": "oV7dEsws0tYL"
      },
      "source": [
        "from tensorflow.keras.preprocessing.text import Tokenizer\n",
        "from tensorflow.keras.preprocessing.sequence import pad_sequences\n",
        "\n",
        "# tokenization\n",
        "tokenizer = Tokenizer(num_words=5000, oov_token='OOV')\n",
        "tokenizer.fit_on_texts(text_train)\n",
        "tokenizer.fit_on_texts(text_test)\n",
        "\n",
        "# convert to sequences\n",
        "train_sequences = tokenizer.texts_to_sequences(text_train)\n",
        "test_sequences = tokenizer.texts_to_sequences(text_test)\n",
        "\n",
        "# padding\n",
        "train_padded = pad_sequences(train_sequences, maxlen=200, padding='post',truncating='post')\n",
        "test_padded = pad_sequences(test_sequences, maxlen=200, padding='post',truncating='post')"
      ],
      "execution_count": 5,
      "outputs": []
    },
    {
      "cell_type": "code",
      "metadata": {
        "id": "kOyf1L7ADC-1"
      },
      "source": [
        "import tensorflow as tf\n",
        "\n",
        "# create model\n",
        "model = tf.keras.Sequential([\n",
        "    tf.keras.layers.Embedding(input_dim=5000, output_dim=16),\n",
        "    tf.keras.layers.LSTM(64),\n",
        "    tf.keras.layers.Dense(128, activation='relu'),\n",
        "    tf.keras.layers.Dense(64, activation='relu'),\n",
        "    tf.keras.layers.Dropout(0.5),\n",
        "    tf.keras.layers.Dense(5, activation='softmax'),\n",
        "])\n",
        "\n",
        "model.compile(loss='categorical_crossentropy',optimizer='adam',metrics=['accuracy'])"
      ],
      "execution_count": 6,
      "outputs": []
    },
    {
      "cell_type": "code",
      "metadata": {
        "colab": {
          "base_uri": "https://localhost:8080/"
        },
        "id": "h3fD6KrCGS7C",
        "outputId": "f37942cf-490e-48d2-a5ec-4065462cc5a0"
      },
      "source": [
        "# create callback class\n",
        "class myCallback(tf.keras.callbacks.Callback):\n",
        "  def on_epoch_end(self, epoch, logs={}):\n",
        "    if(logs.get('accuracy')>0.9 and logs.get('val_accuracy')>0.9):\n",
        "      print(\"\\nAccuracy and val_accuracy already reached > 90%!\")\n",
        "      self.model.stop_training = True\n",
        "callbacks = myCallback()\n",
        "\n",
        "\n",
        "history = model.fit(train_padded, label_train, epochs=50, validation_data=(test_padded, label_test), verbose=2, callbacks=[callbacks])"
      ],
      "execution_count": 7,
      "outputs": [
        {
          "output_type": "stream",
          "text": [
            "Epoch 1/50\n",
            "56/56 - 9s - loss: 1.6018 - accuracy: 0.2236 - val_loss: 1.5909 - val_accuracy: 0.2360\n",
            "Epoch 2/50\n",
            "56/56 - 6s - loss: 1.5002 - accuracy: 0.3758 - val_loss: 1.2925 - val_accuracy: 0.4382\n",
            "Epoch 3/50\n",
            "56/56 - 6s - loss: 1.1028 - accuracy: 0.5011 - val_loss: 0.8975 - val_accuracy: 0.5708\n",
            "Epoch 4/50\n",
            "56/56 - 6s - loss: 0.8257 - accuracy: 0.6067 - val_loss: 0.9057 - val_accuracy: 0.5843\n",
            "Epoch 5/50\n",
            "56/56 - 6s - loss: 0.6997 - accuracy: 0.6219 - val_loss: 0.8565 - val_accuracy: 0.6607\n",
            "Epoch 6/50\n",
            "56/56 - 6s - loss: 0.7386 - accuracy: 0.6337 - val_loss: 0.9917 - val_accuracy: 0.4944\n",
            "Epoch 7/50\n",
            "56/56 - 6s - loss: 0.6530 - accuracy: 0.6545 - val_loss: 0.6542 - val_accuracy: 0.7056\n",
            "Epoch 8/50\n",
            "56/56 - 6s - loss: 0.4704 - accuracy: 0.7904 - val_loss: 0.6550 - val_accuracy: 0.7191\n",
            "Epoch 9/50\n",
            "56/56 - 6s - loss: 0.4023 - accuracy: 0.8640 - val_loss: 0.6373 - val_accuracy: 0.8022\n",
            "Epoch 10/50\n",
            "56/56 - 6s - loss: 0.3348 - accuracy: 0.9017 - val_loss: 0.6394 - val_accuracy: 0.8270\n",
            "Epoch 11/50\n",
            "56/56 - 6s - loss: 0.2416 - accuracy: 0.9365 - val_loss: 0.9169 - val_accuracy: 0.8135\n",
            "Epoch 12/50\n",
            "56/56 - 6s - loss: 0.4746 - accuracy: 0.8298 - val_loss: 0.5968 - val_accuracy: 0.7775\n",
            "Epoch 13/50\n",
            "56/56 - 6s - loss: 0.2349 - accuracy: 0.9281 - val_loss: 0.7260 - val_accuracy: 0.7596\n",
            "Epoch 14/50\n",
            "56/56 - 6s - loss: 0.1325 - accuracy: 0.9640 - val_loss: 0.6568 - val_accuracy: 0.8225\n",
            "Epoch 15/50\n",
            "56/56 - 6s - loss: 0.0675 - accuracy: 0.9820 - val_loss: 0.5794 - val_accuracy: 0.8539\n",
            "Epoch 16/50\n",
            "56/56 - 6s - loss: 0.0364 - accuracy: 0.9933 - val_loss: 0.5790 - val_accuracy: 0.8517\n",
            "Epoch 17/50\n",
            "56/56 - 6s - loss: 0.0207 - accuracy: 0.9972 - val_loss: 0.7734 - val_accuracy: 0.8584\n",
            "Epoch 18/50\n",
            "56/56 - 6s - loss: 0.0225 - accuracy: 0.9944 - val_loss: 0.6176 - val_accuracy: 0.8854\n",
            "Epoch 19/50\n",
            "56/56 - 6s - loss: 0.0054 - accuracy: 0.9994 - val_loss: 0.6165 - val_accuracy: 0.8944\n",
            "Epoch 20/50\n",
            "56/56 - 6s - loss: 0.0091 - accuracy: 0.9983 - val_loss: 0.8230 - val_accuracy: 0.8584\n",
            "Epoch 21/50\n",
            "56/56 - 6s - loss: 0.1486 - accuracy: 0.9612 - val_loss: 0.7778 - val_accuracy: 0.7910\n",
            "Epoch 22/50\n",
            "56/56 - 6s - loss: 0.0894 - accuracy: 0.9685 - val_loss: 0.6397 - val_accuracy: 0.8562\n",
            "Epoch 23/50\n",
            "56/56 - 6s - loss: 0.0845 - accuracy: 0.9770 - val_loss: 0.6136 - val_accuracy: 0.8494\n",
            "Epoch 24/50\n",
            "56/56 - 6s - loss: 0.0137 - accuracy: 0.9978 - val_loss: 0.6036 - val_accuracy: 0.8787\n",
            "Epoch 25/50\n",
            "56/56 - 6s - loss: 0.0136 - accuracy: 0.9978 - val_loss: 0.6031 - val_accuracy: 0.8854\n",
            "Epoch 26/50\n",
            "56/56 - 6s - loss: 0.0714 - accuracy: 0.9815 - val_loss: 0.6562 - val_accuracy: 0.8809\n",
            "Epoch 27/50\n",
            "56/56 - 6s - loss: 0.0753 - accuracy: 0.9893 - val_loss: 0.7505 - val_accuracy: 0.8494\n",
            "Epoch 28/50\n",
            "56/56 - 6s - loss: 0.0810 - accuracy: 0.9781 - val_loss: 0.8574 - val_accuracy: 0.8449\n",
            "Epoch 29/50\n",
            "56/56 - 6s - loss: 0.0697 - accuracy: 0.9803 - val_loss: 0.6974 - val_accuracy: 0.8427\n",
            "Epoch 30/50\n",
            "56/56 - 6s - loss: 0.0117 - accuracy: 0.9989 - val_loss: 0.5526 - val_accuracy: 0.9011\n",
            "\n",
            "Accuracy and val_accuracy already reached > 90%!\n"
          ],
          "name": "stdout"
        }
      ]
    },
    {
      "cell_type": "code",
      "metadata": {
        "colab": {
          "base_uri": "https://localhost:8080/",
          "height": 541
        },
        "id": "uamVAXuK2NMw",
        "outputId": "793d981e-f826-45a6-b884-9a2a90fecb52"
      },
      "source": [
        "import matplotlib.pyplot as plt\n",
        "\n",
        "# create plot function\n",
        "def plot(history, input):\n",
        "  plt.plot(history.history[input])\n",
        "  plt.plot(history.history['val_'+input])\n",
        "  plt.ylabel(input)\n",
        "  plt.xlabel(\"Epochs\")\n",
        "  plt.legend([input, 'val_'+input])\n",
        "  plt.show()\n",
        "\n",
        "plot(history, \"accuracy\")\n",
        "plot(history, \"loss\")"
      ],
      "execution_count": 19,
      "outputs": [
        {
          "output_type": "display_data",
          "data": {
            "image/png": "[encoded data removed]",
            "text/plain": [
              "<Figure size 432x288 with 1 Axes>"
            ]
          },
          "metadata": {
            "tags": [],
            "needs_background": "light"
          }
        },
        {
          "output_type": "display_data",
          "data": {
            "image/png": "[encoded data removed]",
            "text/plain": [
              "<Figure size 432x288 with 1 Axes>"
            ]
          },
          "metadata": {
            "tags": [],
            "needs_background": "light"
          }
        }
      ]
    },
    {
      "cell_type": "code",
      "metadata": {
        "id": "NPQcMLhB5isg"
      },
      "source": [
        "#"
      ],
      "execution_count": null,
      "outputs": []
    }
  ]
}