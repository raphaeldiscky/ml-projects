{
  "nbformat": 4,
  "nbformat_minor": 0,
  "metadata": {
    "colab": {
      "name": "Image Classification - GTSRB.ipynb",
      "provenance": [],
      "collapsed_sections": [],
      "authorship_tag": "ABX9TyNmeIYJJ+RPhZplnjZa34ss",
      "include_colab_link": true
    },
    "kernelspec": {
      "name": "python3",
      "display_name": "Python 3"
    },
    "language_info": {
      "name": "python"
    }
  },
  "cells": [
    {
      "cell_type": "markdown",
      "metadata": {
        "id": "view-in-github",
        "colab_type": "text"
      },
      "source": [
        "<a href=\"https://colab.research.google.com/github/raphaeldiscky/ml-projects/blob/main/Image%20Classification%20-%20GTSRB.ipynb\" target=\"_parent\"><img src=\"https://colab.research.google.com/assets/colab-badge.svg\" alt=\"Open In Colab\"/></a>"
      ]
    },
    {
      "cell_type": "code",
      "metadata": {
        "id": "COttTq9I7gXb"
      },
      "source": [
        "import numpy as np\n",
        "import pandas as pd\n",
        "import matplotlib.pyplot as plt\n",
        "import tensorflow as tf\n",
        "from sklearn.model_selection import train_test_split\n",
        "from keras.layers import Conv2D, MaxPool2D, Dense, Flatten, Dropout\n",
        "from tensorflow.keras.preprocessing.image import ImageDataGenerator\n",
        "from tensorflow.keras.utils import to_categorical\n",
        "import cv2\n",
        "from PIL import Image"
      ],
      "execution_count": 1,
      "outputs": []
    },
    {
      "cell_type": "code",
      "metadata": {
        "colab": {
          "base_uri": "https://localhost:8080/"
        },
        "id": "Y27gPhiaJxDn",
        "outputId": "f83a27f9-74fc-472b-94f0-3325458f6f7e"
      },
      "source": [
        "from google.colab import drive\n",
        "drive.mount('/content/gdrive')"
      ],
      "execution_count": 2,
      "outputs": [
        {
          "output_type": "stream",
          "text": [
            "Drive already mounted at /content/gdrive; to attempt to forcibly remount, call drive.mount(\"/content/gdrive\", force_remount=True).\n"
          ],
          "name": "stdout"
        }
      ]
    },
    {
      "cell_type": "code",
      "metadata": {
        "id": "oFMtjXJ-L4ZJ"
      },
      "source": [
        "data_dir = '/content/GTSRB'\n",
        "train_path = '/content/GTSRB/Train'\n",
        "test_path = '/content/GTSRB'"
      ],
      "execution_count": 3,
      "outputs": []
    },
    {
      "cell_type": "code",
      "metadata": {
        "colab": {
          "base_uri": "https://localhost:8080/"
        },
        "id": "_inaWPwDMkDJ",
        "outputId": "9e806d55-bd22-49de-efc4-1ab9d27fe2db"
      },
      "source": [
        "import os\n",
        "\n",
        "# check total classes\n",
        "total_classes = len(os.listdir(train_path))\n",
        "total_classes"
      ],
      "execution_count": 4,
      "outputs": [
        {
          "output_type": "execute_result",
          "data": {
            "text/plain": [
              "43"
            ]
          },
          "metadata": {
            "tags": []
          },
          "execution_count": 4
        }
      ]
    },
    {
      "cell_type": "code",
      "metadata": {
        "id": "NuQQYpCOM_5a"
      },
      "source": [
        "# naming label classes\n",
        "classes = { 0:'Speed limit (20km/h)',\n",
        "            1:'Speed limit (30km/h)', \n",
        "            2:'Speed limit (50km/h)', \n",
        "            3:'Speed limit (60km/h)', \n",
        "            4:'Speed limit (70km/h)', \n",
        "            5:'Speed limit (80km/h)', \n",
        "            6:'End of speed limit (80km/h)', \n",
        "            7:'Speed limit (100km/h)', \n",
        "            8:'Speed limit (120km/h)', \n",
        "            9:'No passing', \n",
        "            10:'No passing veh over 3.5 tons', \n",
        "            11:'Right-of-way at intersection', \n",
        "            12:'Priority road', \n",
        "            13:'Yield', \n",
        "            14:'Stop', \n",
        "            15:'No vehicles', \n",
        "            16:'Veh > 3.5 tons prohibited', \n",
        "            17:'No entry', \n",
        "            18:'General caution', \n",
        "            19:'Dangerous curve left', \n",
        "            20:'Dangerous curve right', \n",
        "            21:'Double curve', \n",
        "            22:'Bumpy road', \n",
        "            23:'Slippery road', \n",
        "            24:'Road narrows on the right', \n",
        "            25:'Road work', \n",
        "            26:'Traffic signals', \n",
        "            27:'Pedestrians', \n",
        "            28:'Children crossing', \n",
        "            29:'Bicycles crossing', \n",
        "            30:'Beware of ice/snow',\n",
        "            31:'Wild animals crossing', \n",
        "            32:'End speed + passing limits', \n",
        "            33:'Turn right ahead', \n",
        "            34:'Turn left ahead', \n",
        "            35:'Ahead only', \n",
        "            36:'Go straight or right', \n",
        "            37:'Go straight or left', \n",
        "            38:'Keep right', \n",
        "            39:'Keep left', \n",
        "            40:'Roundabout mandatory', \n",
        "            41:'End of no passing', \n",
        "            42:'End no passing veh > 3.5 tons' }"
      ],
      "execution_count": 5,
      "outputs": []
    },
    {
      "cell_type": "code",
      "metadata": {
        "colab": {
          "base_uri": "https://localhost:8080/"
        },
        "id": "4_WXJObONXal",
        "outputId": "4a287056-cf33-49b5-ee40-aebb8610feb5"
      },
      "source": [
        "# collect training data and image preprocessing\n",
        "image_data = []\n",
        "image_labels = []\n",
        "\n",
        "for i in range(total_classes):\n",
        "  path = data_dir + '/Train/' + str(i)\n",
        "  images = os.listdir(path)\n",
        "\n",
        "  for img in images:\n",
        "    image = cv2.imread(path + '/' + img)\n",
        "    image_fromarray = Image.fromarray(image, 'RGB')\n",
        "    resize_image = image_fromarray.resize((30, 30))\n",
        "    image_data.append(np.array(resize_image))\n",
        "    image_labels.append(i)\n",
        "\n",
        "# change list to numpy array\n",
        "image_data = np.array(image_data)\n",
        "image_labels = np.array(image_labels)\n",
        "\n",
        "print(image_data.shape, image_labels.shape)"
      ],
      "execution_count": 6,
      "outputs": [
        {
          "output_type": "stream",
          "text": [
            "(39209, 30, 30, 3) (39209,)\n"
          ],
          "name": "stdout"
        }
      ]
    },
    {
      "cell_type": "code",
      "metadata": {
        "colab": {
          "base_uri": "https://localhost:8080/"
        },
        "id": "5jdolvwmP6F-",
        "outputId": "5a7f2014-a73e-4401-912e-210e6fd4e9c8"
      },
      "source": [
        "print(image_data[0])"
      ],
      "execution_count": 7,
      "outputs": [
        {
          "output_type": "stream",
          "text": [
            "[[[235 236 222]\n",
            "  [162 164 184]\n",
            "  [165 156 154]\n",
            "  ...\n",
            "  [ 89  91 103]\n",
            "  [ 64  76 100]\n",
            "  [ 88  85 105]]\n",
            "\n",
            " [[237 237 221]\n",
            "  [251 252 255]\n",
            "  [255 255 255]\n",
            "  ...\n",
            "  [ 89  94 109]\n",
            "  [ 79  85 109]\n",
            "  [ 84  84 105]]\n",
            "\n",
            " [[231 232 222]\n",
            "  [254 255 255]\n",
            "  [243 246 240]\n",
            "  ...\n",
            "  [ 81  86 111]\n",
            "  [ 74  82 107]\n",
            "  [ 79  82 101]]\n",
            "\n",
            " ...\n",
            "\n",
            " [[ 54  72  74]\n",
            "  [ 59  73  84]\n",
            "  [ 63  81  92]\n",
            "  ...\n",
            "  [ 28  43  36]\n",
            "  [ 40  51  47]\n",
            "  [ 38  55  53]]\n",
            "\n",
            " [[ 59  86  87]\n",
            "  [ 61  83  84]\n",
            "  [ 61  80  84]\n",
            "  ...\n",
            "  [ 27  42  39]\n",
            "  [ 32  45  40]\n",
            "  [ 35  53  46]]\n",
            "\n",
            " [[ 50  77  77]\n",
            "  [ 50  72  71]\n",
            "  [ 54  77  75]\n",
            "  ...\n",
            "  [ 26  40  38]\n",
            "  [ 25  38  33]\n",
            "  [ 27  42  37]]]\n"
          ],
          "name": "stdout"
        }
      ]
    },
    {
      "cell_type": "code",
      "metadata": {
        "colab": {
          "base_uri": "https://localhost:8080/"
        },
        "id": "lt9LMkE2P-kf",
        "outputId": "e6db1bc8-62e2-4e83-a464-f8f65fd931c4"
      },
      "source": [
        "print(len(image_data))"
      ],
      "execution_count": 8,
      "outputs": [
        {
          "output_type": "stream",
          "text": [
            "39209\n"
          ],
          "name": "stdout"
        }
      ]
    },
    {
      "cell_type": "code",
      "metadata": {
        "id": "c3ShTWydPbSl"
      },
      "source": [
        "# shuffle training data\n",
        "arr = np.arange(len(image_data))\n",
        "np.random.shuffle(arr)\n",
        "image_data = image_data[arr]\n",
        "image_labels = image_labels[arr]"
      ],
      "execution_count": 9,
      "outputs": []
    },
    {
      "cell_type": "code",
      "metadata": {
        "colab": {
          "base_uri": "https://localhost:8080/"
        },
        "id": "c15M8a1gQndR",
        "outputId": "7b4b250a-c857-4207-d4ed-17ed350a0d3f"
      },
      "source": [
        "# split data to train and test set\n",
        "x_train, x_test, y_train, y_test = train_test_split(image_data, image_labels, test_size=0.2,  random_state=42, shuffle=True)\n",
        "\n",
        "x_train = x_train/255\n",
        "x_test = x_test/255\n",
        "\n",
        "print(x_train.shape)\n",
        "print(x_test.shape)\n",
        "print(y_train.shape)\n",
        "print(y_test.shape)"
      ],
      "execution_count": 10,
      "outputs": [
        {
          "output_type": "stream",
          "text": [
            "(31367, 30, 30, 3)\n",
            "(7842, 30, 30, 3)\n",
            "(31367,)\n",
            "(7842,)\n"
          ],
          "name": "stdout"
        }
      ]
    },
    {
      "cell_type": "code",
      "metadata": {
        "colab": {
          "base_uri": "https://localhost:8080/"
        },
        "id": "tAnIBbOhRZs9",
        "outputId": "66d19ec9-73eb-438f-9eb9-8ba534af4a09"
      },
      "source": [
        "# one hot encoding the labels\n",
        "y_train = tf.keras.utils.to_categorical(y_train, total_classes)\n",
        "y_test = tf.keras.utils.to_categorical(y_test, total_classes)\n",
        "\n",
        "print(y_train.shape)\n",
        "print(y_test.shape)"
      ],
      "execution_count": 11,
      "outputs": [
        {
          "output_type": "stream",
          "text": [
            "(31367, 43)\n",
            "(7842, 43)\n"
          ],
          "name": "stdout"
        }
      ]
    },
    {
      "cell_type": "code",
      "metadata": {
        "colab": {
          "base_uri": "https://localhost:8080/"
        },
        "id": "r3kxu3r5SGUX",
        "outputId": "504bf91c-7e4c-4260-bc9b-31c65ec87acf"
      },
      "source": [
        "y_train[0]"
      ],
      "execution_count": 12,
      "outputs": [
        {
          "output_type": "execute_result",
          "data": {
            "text/plain": [
              "array([0., 0., 0., 0., 0., 0., 0., 0., 0., 0., 0., 0., 0., 0., 0., 0., 0.,\n",
              "       0., 0., 0., 0., 0., 0., 0., 0., 1., 0., 0., 0., 0., 0., 0., 0., 0.,\n",
              "       0., 0., 0., 0., 0., 0., 0., 0., 0.], dtype=float32)"
            ]
          },
          "metadata": {
            "tags": []
          },
          "execution_count": 12
        }
      ]
    },
    {
      "cell_type": "code",
      "metadata": {
        "colab": {
          "base_uri": "https://localhost:8080/"
        },
        "id": "8qzXRJxdSk_V",
        "outputId": "00e90310-ada0-4e38-ecbb-0a427539cb89"
      },
      "source": [
        "# create model\n",
        "model = tf.keras.models.Sequential([\n",
        "    tf.keras.layers.Conv2D(filters=32, kernel_size=(3,3), activation='relu', input_shape=(30,30,3)),\n",
        "    tf.keras.layers.Conv2D(filters=32, kernel_size=(3,3), activation='relu'),\n",
        "    tf.keras.layers.MaxPool2D(pool_size=(2, 2)),\n",
        "    tf.keras.layers.Dropout(0.2),\n",
        "\n",
        "    tf.keras.layers.Conv2D(filters=32, kernel_size=(3,3), activation='relu'),\n",
        "    tf.keras.layers.Conv2D(filters=32, kernel_size=(3,3), activation='relu'),\n",
        "    tf.keras.layers.MaxPool2D(pool_size=(2, 2)),\n",
        "    tf.keras.layers.Dropout(0.2),\n",
        "\n",
        "    tf.keras.layers.Flatten(),\n",
        "    tf.keras.layers.Dense(512, activation='relu'),\n",
        "    tf.keras.layers.Dropout(0.5),\n",
        "    tf.keras.layers.Dense(43, activation='softmax'),\n",
        "])\n",
        "model.summary()"
      ],
      "execution_count": 13,
      "outputs": [
        {
          "output_type": "stream",
          "text": [
            "Model: \"sequential\"\n",
            "_________________________________________________________________\n",
            "Layer (type)                 Output Shape              Param #   \n",
            "=================================================================\n",
            "conv2d (Conv2D)              (None, 28, 28, 32)        896       \n",
            "_________________________________________________________________\n",
            "conv2d_1 (Conv2D)            (None, 26, 26, 32)        9248      \n",
            "_________________________________________________________________\n",
            "max_pooling2d (MaxPooling2D) (None, 13, 13, 32)        0         \n",
            "_________________________________________________________________\n",
            "dropout (Dropout)            (None, 13, 13, 32)        0         \n",
            "_________________________________________________________________\n",
            "conv2d_2 (Conv2D)            (None, 11, 11, 32)        9248      \n",
            "_________________________________________________________________\n",
            "conv2d_3 (Conv2D)            (None, 9, 9, 32)          9248      \n",
            "_________________________________________________________________\n",
            "max_pooling2d_1 (MaxPooling2 (None, 4, 4, 32)          0         \n",
            "_________________________________________________________________\n",
            "dropout_1 (Dropout)          (None, 4, 4, 32)          0         \n",
            "_________________________________________________________________\n",
            "flatten (Flatten)            (None, 512)               0         \n",
            "_________________________________________________________________\n",
            "dense (Dense)                (None, 512)               262656    \n",
            "_________________________________________________________________\n",
            "dropout_2 (Dropout)          (None, 512)               0         \n",
            "_________________________________________________________________\n",
            "dense_1 (Dense)              (None, 43)                22059     \n",
            "=================================================================\n",
            "Total params: 313,355\n",
            "Trainable params: 313,355\n",
            "Non-trainable params: 0\n",
            "_________________________________________________________________\n"
          ],
          "name": "stdout"
        }
      ]
    },
    {
      "cell_type": "code",
      "metadata": {
        "id": "34kdKcWWUFYM"
      },
      "source": [
        "model.compile(loss='categorical_crossentropy', optimizer='adam', metrics=['accuracy'])"
      ],
      "execution_count": 14,
      "outputs": []
    },
    {
      "cell_type": "code",
      "metadata": {
        "id": "el7dM313SO5t"
      },
      "source": [
        "# augmentating data\n",
        "aug = ImageDataGenerator(\n",
        "    rotation_range=10,\n",
        "    zoom_range=0.15,\n",
        "    width_shift_range=0.1,\n",
        "    height_shift_range=0.1,\n",
        "    shear_range=0.15,\n",
        "    horizontal_flip=False,\n",
        "    vertical_flip=False,\n",
        "    fill_mode=\"nearest\"\n",
        ")\n",
        "\n",
        "# callback function\n",
        "class myCallback(tf.keras.callbacks.Callback):\n",
        "   def on_epoch_end(self, epoch, logs={}):\n",
        "      if(logs.get('accuracy') >= 0.95 and logs.get('val_accuracy') >= 0.92):\n",
        "          print(\"\\n Accuracy has reached >= 95%!\")\n",
        "          self.model.stop_training = True\n",
        "callbacks = myCallback()\n",
        "\n",
        "reduce_lr = tf.keras.callbacks.ReduceLROnPlateau(monitor='val_loss', patience=15, min_lr=0.00001, verbose=2)"
      ],
      "execution_count": 17,
      "outputs": []
    },
    {
      "cell_type": "code",
      "metadata": {
        "colab": {
          "base_uri": "https://localhost:8080/"
        },
        "id": "r_tMpEr9Ubwl",
        "outputId": "47ba68f6-1d4d-4deb-a287-d232faac453e"
      },
      "source": [
        "# train model\n",
        "history = model.fit(aug.flow(x_train, y_train, batch_size=32), \n",
        "                    epochs=30, \n",
        "                    validation_data=(x_test, y_test),\n",
        "                    callbacks=[callbacks, reduce_lr])"
      ],
      "execution_count": 18,
      "outputs": [
        {
          "output_type": "stream",
          "text": [
            "Epoch 1/30\n",
            "981/981 [==============================] - 91s 93ms/step - loss: 1.7283 - accuracy: 0.4696 - val_loss: 0.5499 - val_accuracy: 0.8599\n",
            "Epoch 2/30\n",
            "981/981 [==============================] - 93s 95ms/step - loss: 0.7419 - accuracy: 0.7569 - val_loss: 0.1467 - val_accuracy: 0.9598\n",
            "Epoch 3/30\n",
            "981/981 [==============================] - 93s 95ms/step - loss: 0.4417 - accuracy: 0.8587 - val_loss: 0.0960 - val_accuracy: 0.9717\n",
            "Epoch 4/30\n",
            "981/981 [==============================] - 94s 95ms/step - loss: 0.3161 - accuracy: 0.9014 - val_loss: 0.0437 - val_accuracy: 0.9889\n",
            "Epoch 5/30\n",
            "981/981 [==============================] - 93s 95ms/step - loss: 0.2519 - accuracy: 0.9210 - val_loss: 0.0322 - val_accuracy: 0.9917\n",
            "Epoch 6/30\n",
            "981/981 [==============================] - 94s 95ms/step - loss: 0.2238 - accuracy: 0.9299 - val_loss: 0.0319 - val_accuracy: 0.9906\n",
            "Epoch 7/30\n",
            "981/981 [==============================] - 93s 95ms/step - loss: 0.1859 - accuracy: 0.9422 - val_loss: 0.0208 - val_accuracy: 0.9931\n",
            "Epoch 8/30\n",
            "981/981 [==============================] - 93s 95ms/step - loss: 0.1765 - accuracy: 0.9446 - val_loss: 0.0193 - val_accuracy: 0.9939\n",
            "Epoch 9/30\n",
            "981/981 [==============================] - 93s 95ms/step - loss: 0.1590 - accuracy: 0.9504 - val_loss: 0.0173 - val_accuracy: 0.9959\n",
            "\n",
            " Accuracy has reached >= 95%!\n"
          ],
          "name": "stdout"
        }
      ]
    },
    {
      "cell_type": "code",
      "metadata": {
        "colab": {
          "base_uri": "https://localhost:8080/",
          "height": 295
        },
        "id": "iNDJcBuneZii",
        "outputId": "83297a0e-8ea8-4fb9-b17c-0f23d415e4ec"
      },
      "source": [
        "plt.plot(history.history['accuracy'], label='training accuracy')\n",
        "plt.plot(history.history['val_accuracy'], label='val accuracy')\n",
        "plt.title('Model Accuracy')\n",
        "plt.xlabel('epochs')\n",
        "plt.ylabel('accuracy')\n",
        "plt.legend()\n",
        "plt.show()"
      ],
      "execution_count": 21,
      "outputs": [
        {
          "output_type": "display_data",
          "data": {
            "image/png": "[encoded data removed]",
            "text/plain": [
              "<Figure size 432x288 with 1 Axes>"
            ]
          },
          "metadata": {
            "tags": [],
            "needs_background": "light"
          }
        }
      ]
    },
    {
      "cell_type": "code",
      "metadata": {
        "colab": {
          "base_uri": "https://localhost:8080/",
          "height": 295
        },
        "id": "vwTSYLunegq7",
        "outputId": "088df169-70f2-4429-e74d-79704587c166"
      },
      "source": [
        "plt.plot(history.history['loss'], label='training loss')\n",
        "plt.plot(history.history['val_loss'], label='val loss')\n",
        "plt.title('Model Loss')\n",
        "plt.xlabel('epochs')\n",
        "plt.ylabel('loss')\n",
        "plt.legend()\n",
        "plt.show()"
      ],
      "execution_count": 22,
      "outputs": [
        {
          "output_type": "display_data",
          "data": {
            "image/png": "[encoded data removed]",
            "text/plain": [
              "<Figure size 432x288 with 1 Axes>"
            ]
          },
          "metadata": {
            "tags": [],
            "needs_background": "light"
          }
        }
      ]
    },
    {
      "cell_type": "code",
      "metadata": {
        "colab": {
          "base_uri": "https://localhost:8080/"
        },
        "id": "TH1vTyiteu5J",
        "outputId": "b8b91e1e-57d5-4232-b8a8-5dbb52ab61ef"
      },
      "source": [
        "# convert and save model to TFLite\n",
        "converter = tf.lite.TFLiteConverter.from_keras_model(model)\n",
        "tflite_model = converter.convert()\n",
        "\n",
        "with tf.io.gfile.GFile('model.tflite','wb') as f:\n",
        "  f.write(tflite_model)"
      ],
      "execution_count": 24,
      "outputs": [
        {
          "output_type": "stream",
          "text": [
            "INFO:tensorflow:Assets written to: /tmp/tmpuyn_epvu/assets\n"
          ],
          "name": "stdout"
        },
        {
          "output_type": "stream",
          "text": [
            "INFO:tensorflow:Assets written to: /tmp/tmpuyn_epvu/assets\n"
          ],
          "name": "stderr"
        }
      ]
    }
  ]
}