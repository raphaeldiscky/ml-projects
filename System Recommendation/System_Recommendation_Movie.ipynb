{
  "nbformat": 4,
  "nbformat_minor": 0,
  "metadata": {
    "accelerator": "GPU",
    "colab": {
      "name": "System_Recommendation_Movie.ipynb",
      "provenance": [],
      "collapsed_sections": []
    },
    "kernelspec": {
      "display_name": "Python 3",
      "name": "python3"
    },
    "language_info": {
      "name": "python"
    }
  },
  "cells": [
    {
      "cell_type": "markdown",
      "metadata": {
        "id": "nB_uwHzpTVFq"
      },
      "source": [
        "##Recommendation System using Collaborative Filtering\n",
        "\n",
        "Sistem rekomendasi merupakan sebuah metode yang digunakan untuk memberikan rekomendasi pada sebuah produk seperti buku, musik dan film dengan memberikan nilai prediksi tertinggi pada penggunanya. Sistem rekomendasi saat ini masih bisa ditingkatkan lagi kualitasnya, sehingga dengan menggunakan metode baru diharapkan dapat lebih meningkatkan lagi nilai relevansi dari hasil rekomendasi yang diberikan daripada sistem-sistem sebelumnya. Selain itu perkembangan film didunia juga setiap harinya semakin meningkat dengan berbagai jenis genre yang dimiliki, sehingga membuat para penonton film merasa kesulitan untuk memilih film apa yang akan ditonton. Maka dari itu, diperlukan adanya sebuah sistem yang dapat memberikan rekomendasi dari penonton film lainnya. Pada proyek ini membuat sistem rekomendasi film menggunakan collaborative filtering dengan algoritma K-Nearest Neighbors.\n",
        "\n",
        "Sistem rekomendasi menjadi semakin penting di dunia yang sibuk saat ini. Orang selalu mencari produk/layanan yang paling cocok untuk mereka. Oleh karena itu, sistem rekomendasi penting karena membantu mereka membuat pilihan yang tepat, tanpa harus mengeluarkan sumber daya lain yang besar.\n"
      ]
    },
    {
      "cell_type": "code",
      "metadata": {
        "id": "hSHBTz3rS0bq"
      },
      "source": [
        "import pandas as pd\n",
        "import matplotlib.pyplot as plt\n",
        "import seaborn as sns\n",
        "import numpy as np\n",
        "import json"
      ],
      "execution_count": null,
      "outputs": []
    },
    {
      "cell_type": "markdown",
      "metadata": {
        "id": "382p-SHygsQK"
      },
      "source": [
        "**Mount ke gdrive**"
      ]
    },
    {
      "cell_type": "code",
      "metadata": {
        "colab": {
          "base_uri": "https://localhost:8080/"
        },
        "id": "GFf9BW3KMu5x",
        "outputId": "6609f498-93ba-4d24-fcee-5787edf60e2e"
      },
      "source": [
        "from google.colab import drive\n",
        "drive.mount('/content/drive')"
      ],
      "execution_count": null,
      "outputs": [
        {
          "output_type": "stream",
          "name": "stdout",
          "text": [
            "Drive already mounted at /content/drive; to attempt to forcibly remount, call drive.mount(\"/content/drive\", force_remount=True).\n"
          ]
        }
      ]
    },
    {
      "cell_type": "markdown",
      "metadata": {
        "id": "w4Ua2cn-gv2C"
      },
      "source": [
        "**Import Dataset**"
      ]
    },
    {
      "cell_type": "code",
      "metadata": {
        "id": "hXrP6XD9SG5s"
      },
      "source": [
        "movies = pd.read_csv('/content/drive/MyDrive/TMDB Movie Dataset/tmdb_5000_movies.csv')\n",
        "credits = pd.read_csv('/content/drive/MyDrive/TMDB Movie Dataset/tmdb_5000_credits.csv')"
      ],
      "execution_count": null,
      "outputs": []
    },
    {
      "cell_type": "markdown",
      "metadata": {
        "id": "9K5PH-gVQNqm"
      },
      "source": [
        "### **Data Understanding & Cleaning** "
      ]
    },
    {
      "cell_type": "code",
      "metadata": {
        "colab": {
          "base_uri": "https://localhost:8080/",
          "height": 717
        },
        "id": "paNP71M6NEXx",
        "outputId": "ac28398c-07ec-42a0-cce1-4c10340a0036"
      },
      "source": [
        "movies.head()"
      ],
      "execution_count": null,
      "outputs": [
        {
          "output_type": "execute_result",
          "data": {
            "text/html": [
              "<div>\n",
              "<style scoped>\n",
              "    .dataframe tbody tr th:only-of-type {\n",
              "        vertical-align: middle;\n",
              "    }\n",
              "\n",
              "    .dataframe tbody tr th {\n",
              "        vertical-align: top;\n",
              "    }\n",
              "\n",
              "    .dataframe thead th {\n",
              "        text-align: right;\n",
              "    }\n",
              "</style>\n",
              "<table border=\"1\" class=\"dataframe\">\n",
              "  <thead>\n",
              "    <tr style=\"text-align: right;\">\n",
              "      <th></th>\n",
              "      <th>budget</th>\n",
              "      <th>genres</th>\n",
              "      <th>homepage</th>\n",
              "      <th>id</th>\n",
              "      <th>keywords</th>\n",
              "      <th>original_language</th>\n",
              "      <th>original_title</th>\n",
              "      <th>overview</th>\n",
              "      <th>popularity</th>\n",
              "      <th>production_companies</th>\n",
              "      <th>production_countries</th>\n",
              "      <th>release_date</th>\n",
              "      <th>revenue</th>\n",
              "      <th>runtime</th>\n",
              "      <th>spoken_languages</th>\n",
              "      <th>status</th>\n",
              "      <th>tagline</th>\n",
              "      <th>title</th>\n",
              "      <th>vote_average</th>\n",
              "      <th>vote_count</th>\n",
              "    </tr>\n",
              "  </thead>\n",
              "  <tbody>\n",
              "    <tr>\n",
              "      <th>0</th>\n",
              "      <td>237000000</td>\n",
              "      <td>[{\"id\": 28, \"name\": \"Action\"}, {\"id\": 12, \"nam...</td>\n",
              "      <td>http://www.avatarmovie.com/</td>\n",
              "      <td>19995</td>\n",
              "      <td>[{\"id\": 1463, \"name\": \"culture clash\"}, {\"id\":...</td>\n",
              "      <td>en</td>\n",
              "      <td>Avatar</td>\n",
              "      <td>In the 22nd century, a paraplegic Marine is di...</td>\n",
              "      <td>150.437577</td>\n",
              "      <td>[{\"name\": \"Ingenious Film Partners\", \"id\": 289...</td>\n",
              "      <td>[{\"iso_3166_1\": \"US\", \"name\": \"United States o...</td>\n",
              "      <td>2009-12-10</td>\n",
              "      <td>2787965087</td>\n",
              "      <td>162.0</td>\n",
              "      <td>[{\"iso_639_1\": \"en\", \"name\": \"English\"}, {\"iso...</td>\n",
              "      <td>Released</td>\n",
              "      <td>Enter the World of Pandora.</td>\n",
              "      <td>Avatar</td>\n",
              "      <td>7.2</td>\n",
              "      <td>11800</td>\n",
              "    </tr>\n",
              "    <tr>\n",
              "      <th>1</th>\n",
              "      <td>300000000</td>\n",
              "      <td>[{\"id\": 12, \"name\": \"Adventure\"}, {\"id\": 14, \"...</td>\n",
              "      <td>http://disney.go.com/disneypictures/pirates/</td>\n",
              "      <td>285</td>\n",
              "      <td>[{\"id\": 270, \"name\": \"ocean\"}, {\"id\": 726, \"na...</td>\n",
              "      <td>en</td>\n",
              "      <td>Pirates of the Caribbean: At World's End</td>\n",
              "      <td>Captain Barbossa, long believed to be dead, ha...</td>\n",
              "      <td>139.082615</td>\n",
              "      <td>[{\"name\": \"Walt Disney Pictures\", \"id\": 2}, {\"...</td>\n",
              "      <td>[{\"iso_3166_1\": \"US\", \"name\": \"United States o...</td>\n",
              "      <td>2007-05-19</td>\n",
              "      <td>961000000</td>\n",
              "      <td>169.0</td>\n",
              "      <td>[{\"iso_639_1\": \"en\", \"name\": \"English\"}]</td>\n",
              "      <td>Released</td>\n",
              "      <td>At the end of the world, the adventure begins.</td>\n",
              "      <td>Pirates of the Caribbean: At World's End</td>\n",
              "      <td>6.9</td>\n",
              "      <td>4500</td>\n",
              "    </tr>\n",
              "    <tr>\n",
              "      <th>2</th>\n",
              "      <td>245000000</td>\n",
              "      <td>[{\"id\": 28, \"name\": \"Action\"}, {\"id\": 12, \"nam...</td>\n",
              "      <td>http://www.sonypictures.com/movies/spectre/</td>\n",
              "      <td>206647</td>\n",
              "      <td>[{\"id\": 470, \"name\": \"spy\"}, {\"id\": 818, \"name...</td>\n",
              "      <td>en</td>\n",
              "      <td>Spectre</td>\n",
              "      <td>A cryptic message from Bond’s past sends him o...</td>\n",
              "      <td>107.376788</td>\n",
              "      <td>[{\"name\": \"Columbia Pictures\", \"id\": 5}, {\"nam...</td>\n",
              "      <td>[{\"iso_3166_1\": \"GB\", \"name\": \"United Kingdom\"...</td>\n",
              "      <td>2015-10-26</td>\n",
              "      <td>880674609</td>\n",
              "      <td>148.0</td>\n",
              "      <td>[{\"iso_639_1\": \"fr\", \"name\": \"Fran\\u00e7ais\"},...</td>\n",
              "      <td>Released</td>\n",
              "      <td>A Plan No One Escapes</td>\n",
              "      <td>Spectre</td>\n",
              "      <td>6.3</td>\n",
              "      <td>4466</td>\n",
              "    </tr>\n",
              "    <tr>\n",
              "      <th>3</th>\n",
              "      <td>250000000</td>\n",
              "      <td>[{\"id\": 28, \"name\": \"Action\"}, {\"id\": 80, \"nam...</td>\n",
              "      <td>http://www.thedarkknightrises.com/</td>\n",
              "      <td>49026</td>\n",
              "      <td>[{\"id\": 849, \"name\": \"dc comics\"}, {\"id\": 853,...</td>\n",
              "      <td>en</td>\n",
              "      <td>The Dark Knight Rises</td>\n",
              "      <td>Following the death of District Attorney Harve...</td>\n",
              "      <td>112.312950</td>\n",
              "      <td>[{\"name\": \"Legendary Pictures\", \"id\": 923}, {\"...</td>\n",
              "      <td>[{\"iso_3166_1\": \"US\", \"name\": \"United States o...</td>\n",
              "      <td>2012-07-16</td>\n",
              "      <td>1084939099</td>\n",
              "      <td>165.0</td>\n",
              "      <td>[{\"iso_639_1\": \"en\", \"name\": \"English\"}]</td>\n",
              "      <td>Released</td>\n",
              "      <td>The Legend Ends</td>\n",
              "      <td>The Dark Knight Rises</td>\n",
              "      <td>7.6</td>\n",
              "      <td>9106</td>\n",
              "    </tr>\n",
              "    <tr>\n",
              "      <th>4</th>\n",
              "      <td>260000000</td>\n",
              "      <td>[{\"id\": 28, \"name\": \"Action\"}, {\"id\": 12, \"nam...</td>\n",
              "      <td>http://movies.disney.com/john-carter</td>\n",
              "      <td>49529</td>\n",
              "      <td>[{\"id\": 818, \"name\": \"based on novel\"}, {\"id\":...</td>\n",
              "      <td>en</td>\n",
              "      <td>John Carter</td>\n",
              "      <td>John Carter is a war-weary, former military ca...</td>\n",
              "      <td>43.926995</td>\n",
              "      <td>[{\"name\": \"Walt Disney Pictures\", \"id\": 2}]</td>\n",
              "      <td>[{\"iso_3166_1\": \"US\", \"name\": \"United States o...</td>\n",
              "      <td>2012-03-07</td>\n",
              "      <td>284139100</td>\n",
              "      <td>132.0</td>\n",
              "      <td>[{\"iso_639_1\": \"en\", \"name\": \"English\"}]</td>\n",
              "      <td>Released</td>\n",
              "      <td>Lost in our world, found in another.</td>\n",
              "      <td>John Carter</td>\n",
              "      <td>6.1</td>\n",
              "      <td>2124</td>\n",
              "    </tr>\n",
              "  </tbody>\n",
              "</table>\n",
              "</div>"
            ],
            "text/plain": [
              "      budget  ... vote_count\n",
              "0  237000000  ...      11800\n",
              "1  300000000  ...       4500\n",
              "2  245000000  ...       4466\n",
              "3  250000000  ...       9106\n",
              "4  260000000  ...       2124\n",
              "\n",
              "[5 rows x 20 columns]"
            ]
          },
          "metadata": {},
          "execution_count": 4
        }
      ]
    },
    {
      "cell_type": "code",
      "metadata": {
        "colab": {
          "base_uri": "https://localhost:8080/",
          "height": 204
        },
        "id": "DjQoKkqiPBvv",
        "outputId": "062d0716-9486-4864-8360-36c2245a1d7b"
      },
      "source": [
        "credits.head()"
      ],
      "execution_count": null,
      "outputs": [
        {
          "output_type": "execute_result",
          "data": {
            "text/html": [
              "<div>\n",
              "<style scoped>\n",
              "    .dataframe tbody tr th:only-of-type {\n",
              "        vertical-align: middle;\n",
              "    }\n",
              "\n",
              "    .dataframe tbody tr th {\n",
              "        vertical-align: top;\n",
              "    }\n",
              "\n",
              "    .dataframe thead th {\n",
              "        text-align: right;\n",
              "    }\n",
              "</style>\n",
              "<table border=\"1\" class=\"dataframe\">\n",
              "  <thead>\n",
              "    <tr style=\"text-align: right;\">\n",
              "      <th></th>\n",
              "      <th>movie_id</th>\n",
              "      <th>title</th>\n",
              "      <th>cast</th>\n",
              "      <th>crew</th>\n",
              "    </tr>\n",
              "  </thead>\n",
              "  <tbody>\n",
              "    <tr>\n",
              "      <th>0</th>\n",
              "      <td>19995</td>\n",
              "      <td>Avatar</td>\n",
              "      <td>[{\"cast_id\": 242, \"character\": \"Jake Sully\", \"...</td>\n",
              "      <td>[{\"credit_id\": \"52fe48009251416c750aca23\", \"de...</td>\n",
              "    </tr>\n",
              "    <tr>\n",
              "      <th>1</th>\n",
              "      <td>285</td>\n",
              "      <td>Pirates of the Caribbean: At World's End</td>\n",
              "      <td>[{\"cast_id\": 4, \"character\": \"Captain Jack Spa...</td>\n",
              "      <td>[{\"credit_id\": \"52fe4232c3a36847f800b579\", \"de...</td>\n",
              "    </tr>\n",
              "    <tr>\n",
              "      <th>2</th>\n",
              "      <td>206647</td>\n",
              "      <td>Spectre</td>\n",
              "      <td>[{\"cast_id\": 1, \"character\": \"James Bond\", \"cr...</td>\n",
              "      <td>[{\"credit_id\": \"54805967c3a36829b5002c41\", \"de...</td>\n",
              "    </tr>\n",
              "    <tr>\n",
              "      <th>3</th>\n",
              "      <td>49026</td>\n",
              "      <td>The Dark Knight Rises</td>\n",
              "      <td>[{\"cast_id\": 2, \"character\": \"Bruce Wayne / Ba...</td>\n",
              "      <td>[{\"credit_id\": \"52fe4781c3a36847f81398c3\", \"de...</td>\n",
              "    </tr>\n",
              "    <tr>\n",
              "      <th>4</th>\n",
              "      <td>49529</td>\n",
              "      <td>John Carter</td>\n",
              "      <td>[{\"cast_id\": 5, \"character\": \"John Carter\", \"c...</td>\n",
              "      <td>[{\"credit_id\": \"52fe479ac3a36847f813eaa3\", \"de...</td>\n",
              "    </tr>\n",
              "  </tbody>\n",
              "</table>\n",
              "</div>"
            ],
            "text/plain": [
              "   movie_id  ...                                               crew\n",
              "0     19995  ...  [{\"credit_id\": \"52fe48009251416c750aca23\", \"de...\n",
              "1       285  ...  [{\"credit_id\": \"52fe4232c3a36847f800b579\", \"de...\n",
              "2    206647  ...  [{\"credit_id\": \"54805967c3a36829b5002c41\", \"de...\n",
              "3     49026  ...  [{\"credit_id\": \"52fe4781c3a36847f81398c3\", \"de...\n",
              "4     49529  ...  [{\"credit_id\": \"52fe479ac3a36847f813eaa3\", \"de...\n",
              "\n",
              "[5 rows x 4 columns]"
            ]
          },
          "metadata": {},
          "execution_count": 5
        }
      ]
    },
    {
      "cell_type": "markdown",
      "metadata": {
        "id": "rFXbnnDwQCqO"
      },
      "source": [
        "##### **Convert JSON into strings**"
      ]
    },
    {
      "cell_type": "code",
      "metadata": {
        "id": "IKhcm-CAP0Ag"
      },
      "source": [
        "movies['genres'] = movies['genres'].apply(json.loads)\n",
        "for index,i in zip(movies.index,movies['genres']):\n",
        "    list1 = []\n",
        "    for j in range(len(i)):\n",
        "        list1.append((i[j]['name'])) \n",
        "    movies.loc[index,'genres'] = str(list1)\n",
        "\n",
        "movies['keywords'] = movies['keywords'].apply(json.loads)\n",
        "for index,i in zip(movies.index,movies['keywords']):\n",
        "    list1 = []\n",
        "    for j in range(len(i)):\n",
        "        list1.append((i[j]['name']))\n",
        "    movies.loc[index,'keywords'] = str(list1)\n",
        "\n",
        "movies['production_companies'] = movies['production_companies'].apply(json.loads)\n",
        "for index,i in zip(movies.index,movies['production_companies']):\n",
        "    list1 = []\n",
        "    for j in range(len(i)):\n",
        "        list1.append((i[j]['name']))\n",
        "    movies.loc[index,'production_companies'] = str(list1)\n",
        "\n",
        "credits['cast'] = credits['cast'].apply(json.loads)\n",
        "for index,i in zip(credits.index,credits['cast']):\n",
        "    list1 = []\n",
        "    for j in range(len(i)):\n",
        "        list1.append((i[j]['name']))\n",
        "    credits.loc[index,'cast'] = str(list1)\n",
        "    \n",
        "credits['crew'] = credits['crew'].apply(json.loads)\n",
        "def director(x):\n",
        "    for i in x:\n",
        "        if i['job'] == 'Director':\n",
        "            return i['name']\n",
        "credits['crew'] = credits['crew'].apply(director)\n",
        "credits.rename(columns={'crew':'director'},inplace=True)"
      ],
      "execution_count": null,
      "outputs": []
    },
    {
      "cell_type": "code",
      "metadata": {
        "colab": {
          "base_uri": "https://localhost:8080/",
          "height": 700
        },
        "id": "ta8oRqE-QwNv",
        "outputId": "7eba06da-0079-4c1c-f034-818d85dd2467"
      },
      "source": [
        "movies.head()"
      ],
      "execution_count": null,
      "outputs": [
        {
          "output_type": "execute_result",
          "data": {
            "text/html": [
              "<div>\n",
              "<style scoped>\n",
              "    .dataframe tbody tr th:only-of-type {\n",
              "        vertical-align: middle;\n",
              "    }\n",
              "\n",
              "    .dataframe tbody tr th {\n",
              "        vertical-align: top;\n",
              "    }\n",
              "\n",
              "    .dataframe thead th {\n",
              "        text-align: right;\n",
              "    }\n",
              "</style>\n",
              "<table border=\"1\" class=\"dataframe\">\n",
              "  <thead>\n",
              "    <tr style=\"text-align: right;\">\n",
              "      <th></th>\n",
              "      <th>budget</th>\n",
              "      <th>genres</th>\n",
              "      <th>homepage</th>\n",
              "      <th>id</th>\n",
              "      <th>keywords</th>\n",
              "      <th>original_language</th>\n",
              "      <th>original_title</th>\n",
              "      <th>overview</th>\n",
              "      <th>popularity</th>\n",
              "      <th>production_companies</th>\n",
              "      <th>production_countries</th>\n",
              "      <th>release_date</th>\n",
              "      <th>revenue</th>\n",
              "      <th>runtime</th>\n",
              "      <th>spoken_languages</th>\n",
              "      <th>status</th>\n",
              "      <th>tagline</th>\n",
              "      <th>title</th>\n",
              "      <th>vote_average</th>\n",
              "      <th>vote_count</th>\n",
              "    </tr>\n",
              "  </thead>\n",
              "  <tbody>\n",
              "    <tr>\n",
              "      <th>0</th>\n",
              "      <td>237000000</td>\n",
              "      <td>['Action', 'Adventure', 'Fantasy', 'Science Fi...</td>\n",
              "      <td>http://www.avatarmovie.com/</td>\n",
              "      <td>19995</td>\n",
              "      <td>['culture clash', 'future', 'space war', 'spac...</td>\n",
              "      <td>en</td>\n",
              "      <td>Avatar</td>\n",
              "      <td>In the 22nd century, a paraplegic Marine is di...</td>\n",
              "      <td>150.437577</td>\n",
              "      <td>['Ingenious Film Partners', 'Twentieth Century...</td>\n",
              "      <td>[{\"iso_3166_1\": \"US\", \"name\": \"United States o...</td>\n",
              "      <td>2009-12-10</td>\n",
              "      <td>2787965087</td>\n",
              "      <td>162.0</td>\n",
              "      <td>[{\"iso_639_1\": \"en\", \"name\": \"English\"}, {\"iso...</td>\n",
              "      <td>Released</td>\n",
              "      <td>Enter the World of Pandora.</td>\n",
              "      <td>Avatar</td>\n",
              "      <td>7.2</td>\n",
              "      <td>11800</td>\n",
              "    </tr>\n",
              "    <tr>\n",
              "      <th>1</th>\n",
              "      <td>300000000</td>\n",
              "      <td>['Adventure', 'Fantasy', 'Action']</td>\n",
              "      <td>http://disney.go.com/disneypictures/pirates/</td>\n",
              "      <td>285</td>\n",
              "      <td>['ocean', 'drug abuse', 'exotic island', 'east...</td>\n",
              "      <td>en</td>\n",
              "      <td>Pirates of the Caribbean: At World's End</td>\n",
              "      <td>Captain Barbossa, long believed to be dead, ha...</td>\n",
              "      <td>139.082615</td>\n",
              "      <td>['Walt Disney Pictures', 'Jerry Bruckheimer Fi...</td>\n",
              "      <td>[{\"iso_3166_1\": \"US\", \"name\": \"United States o...</td>\n",
              "      <td>2007-05-19</td>\n",
              "      <td>961000000</td>\n",
              "      <td>169.0</td>\n",
              "      <td>[{\"iso_639_1\": \"en\", \"name\": \"English\"}]</td>\n",
              "      <td>Released</td>\n",
              "      <td>At the end of the world, the adventure begins.</td>\n",
              "      <td>Pirates of the Caribbean: At World's End</td>\n",
              "      <td>6.9</td>\n",
              "      <td>4500</td>\n",
              "    </tr>\n",
              "    <tr>\n",
              "      <th>2</th>\n",
              "      <td>245000000</td>\n",
              "      <td>['Action', 'Adventure', 'Crime']</td>\n",
              "      <td>http://www.sonypictures.com/movies/spectre/</td>\n",
              "      <td>206647</td>\n",
              "      <td>['spy', 'based on novel', 'secret agent', 'seq...</td>\n",
              "      <td>en</td>\n",
              "      <td>Spectre</td>\n",
              "      <td>A cryptic message from Bond’s past sends him o...</td>\n",
              "      <td>107.376788</td>\n",
              "      <td>['Columbia Pictures', 'Danjaq', 'B24']</td>\n",
              "      <td>[{\"iso_3166_1\": \"GB\", \"name\": \"United Kingdom\"...</td>\n",
              "      <td>2015-10-26</td>\n",
              "      <td>880674609</td>\n",
              "      <td>148.0</td>\n",
              "      <td>[{\"iso_639_1\": \"fr\", \"name\": \"Fran\\u00e7ais\"},...</td>\n",
              "      <td>Released</td>\n",
              "      <td>A Plan No One Escapes</td>\n",
              "      <td>Spectre</td>\n",
              "      <td>6.3</td>\n",
              "      <td>4466</td>\n",
              "    </tr>\n",
              "    <tr>\n",
              "      <th>3</th>\n",
              "      <td>250000000</td>\n",
              "      <td>['Action', 'Crime', 'Drama', 'Thriller']</td>\n",
              "      <td>http://www.thedarkknightrises.com/</td>\n",
              "      <td>49026</td>\n",
              "      <td>['dc comics', 'crime fighter', 'terrorist', 's...</td>\n",
              "      <td>en</td>\n",
              "      <td>The Dark Knight Rises</td>\n",
              "      <td>Following the death of District Attorney Harve...</td>\n",
              "      <td>112.312950</td>\n",
              "      <td>['Legendary Pictures', 'Warner Bros.', 'DC Ent...</td>\n",
              "      <td>[{\"iso_3166_1\": \"US\", \"name\": \"United States o...</td>\n",
              "      <td>2012-07-16</td>\n",
              "      <td>1084939099</td>\n",
              "      <td>165.0</td>\n",
              "      <td>[{\"iso_639_1\": \"en\", \"name\": \"English\"}]</td>\n",
              "      <td>Released</td>\n",
              "      <td>The Legend Ends</td>\n",
              "      <td>The Dark Knight Rises</td>\n",
              "      <td>7.6</td>\n",
              "      <td>9106</td>\n",
              "    </tr>\n",
              "    <tr>\n",
              "      <th>4</th>\n",
              "      <td>260000000</td>\n",
              "      <td>['Action', 'Adventure', 'Science Fiction']</td>\n",
              "      <td>http://movies.disney.com/john-carter</td>\n",
              "      <td>49529</td>\n",
              "      <td>['based on novel', 'mars', 'medallion', 'space...</td>\n",
              "      <td>en</td>\n",
              "      <td>John Carter</td>\n",
              "      <td>John Carter is a war-weary, former military ca...</td>\n",
              "      <td>43.926995</td>\n",
              "      <td>['Walt Disney Pictures']</td>\n",
              "      <td>[{\"iso_3166_1\": \"US\", \"name\": \"United States o...</td>\n",
              "      <td>2012-03-07</td>\n",
              "      <td>284139100</td>\n",
              "      <td>132.0</td>\n",
              "      <td>[{\"iso_639_1\": \"en\", \"name\": \"English\"}]</td>\n",
              "      <td>Released</td>\n",
              "      <td>Lost in our world, found in another.</td>\n",
              "      <td>John Carter</td>\n",
              "      <td>6.1</td>\n",
              "      <td>2124</td>\n",
              "    </tr>\n",
              "  </tbody>\n",
              "</table>\n",
              "</div>"
            ],
            "text/plain": [
              "      budget  ... vote_count\n",
              "0  237000000  ...      11800\n",
              "1  300000000  ...       4500\n",
              "2  245000000  ...       4466\n",
              "3  250000000  ...       9106\n",
              "4  260000000  ...       2124\n",
              "\n",
              "[5 rows x 20 columns]"
            ]
          },
          "metadata": {},
          "execution_count": 7
        }
      ]
    },
    {
      "cell_type": "code",
      "metadata": {
        "colab": {
          "base_uri": "https://localhost:8080/",
          "height": 204
        },
        "id": "f4FPtqkkRPR9",
        "outputId": "3c201b97-e573-4853-fbee-cca380054ed9"
      },
      "source": [
        "credits.head()"
      ],
      "execution_count": null,
      "outputs": [
        {
          "output_type": "execute_result",
          "data": {
            "text/html": [
              "<div>\n",
              "<style scoped>\n",
              "    .dataframe tbody tr th:only-of-type {\n",
              "        vertical-align: middle;\n",
              "    }\n",
              "\n",
              "    .dataframe tbody tr th {\n",
              "        vertical-align: top;\n",
              "    }\n",
              "\n",
              "    .dataframe thead th {\n",
              "        text-align: right;\n",
              "    }\n",
              "</style>\n",
              "<table border=\"1\" class=\"dataframe\">\n",
              "  <thead>\n",
              "    <tr style=\"text-align: right;\">\n",
              "      <th></th>\n",
              "      <th>movie_id</th>\n",
              "      <th>title</th>\n",
              "      <th>cast</th>\n",
              "      <th>director</th>\n",
              "    </tr>\n",
              "  </thead>\n",
              "  <tbody>\n",
              "    <tr>\n",
              "      <th>0</th>\n",
              "      <td>19995</td>\n",
              "      <td>Avatar</td>\n",
              "      <td>['Sam Worthington', 'Zoe Saldana', 'Sigourney ...</td>\n",
              "      <td>James Cameron</td>\n",
              "    </tr>\n",
              "    <tr>\n",
              "      <th>1</th>\n",
              "      <td>285</td>\n",
              "      <td>Pirates of the Caribbean: At World's End</td>\n",
              "      <td>['Johnny Depp', 'Orlando Bloom', 'Keira Knight...</td>\n",
              "      <td>Gore Verbinski</td>\n",
              "    </tr>\n",
              "    <tr>\n",
              "      <th>2</th>\n",
              "      <td>206647</td>\n",
              "      <td>Spectre</td>\n",
              "      <td>['Daniel Craig', 'Christoph Waltz', 'Léa Seydo...</td>\n",
              "      <td>Sam Mendes</td>\n",
              "    </tr>\n",
              "    <tr>\n",
              "      <th>3</th>\n",
              "      <td>49026</td>\n",
              "      <td>The Dark Knight Rises</td>\n",
              "      <td>['Christian Bale', 'Michael Caine', 'Gary Oldm...</td>\n",
              "      <td>Christopher Nolan</td>\n",
              "    </tr>\n",
              "    <tr>\n",
              "      <th>4</th>\n",
              "      <td>49529</td>\n",
              "      <td>John Carter</td>\n",
              "      <td>['Taylor Kitsch', 'Lynn Collins', 'Samantha Mo...</td>\n",
              "      <td>Andrew Stanton</td>\n",
              "    </tr>\n",
              "  </tbody>\n",
              "</table>\n",
              "</div>"
            ],
            "text/plain": [
              "   movie_id  ...           director\n",
              "0     19995  ...      James Cameron\n",
              "1       285  ...     Gore Verbinski\n",
              "2    206647  ...         Sam Mendes\n",
              "3     49026  ...  Christopher Nolan\n",
              "4     49529  ...     Andrew Stanton\n",
              "\n",
              "[5 rows x 4 columns]"
            ]
          },
          "metadata": {},
          "execution_count": 8
        }
      ]
    },
    {
      "cell_type": "markdown",
      "metadata": {
        "id": "6yrvs1D6RAhM"
      },
      "source": [
        "#### **Gabungkan kolom-kolom antara dua file**"
      ]
    },
    {
      "cell_type": "code",
      "metadata": {
        "id": "btiQ4-JeRAGM"
      },
      "source": [
        "movies = movies.merge(credits,left_on='id',right_on='movie_id',how='left')\n",
        "movies = movies[['id','original_title','genres','cast','vote_average','director','keywords']]"
      ],
      "execution_count": null,
      "outputs": []
    },
    {
      "cell_type": "markdown",
      "metadata": {
        "id": "LfWxkztuhdw5"
      },
      "source": [
        "**Mengecek film nomor pertama**"
      ]
    },
    {
      "cell_type": "code",
      "metadata": {
        "colab": {
          "base_uri": "https://localhost:8080/"
        },
        "id": "Ko2VxLRUShuF",
        "outputId": "9058749e-33fb-4c00-e4de-0a57254fe7b3"
      },
      "source": [
        "movies.iloc[1]"
      ],
      "execution_count": null,
      "outputs": [
        {
          "output_type": "execute_result",
          "data": {
            "text/plain": [
              "id                                                              285\n",
              "original_title             Pirates of the Caribbean: At World's End\n",
              "genres                           ['Adventure', 'Fantasy', 'Action']\n",
              "cast              ['Johnny Depp', 'Orlando Bloom', 'Keira Knight...\n",
              "vote_average                                                    6.9\n",
              "director                                             Gore Verbinski\n",
              "keywords          ['ocean', 'drug abuse', 'exotic island', 'east...\n",
              "Name: 1, dtype: object"
            ]
          },
          "metadata": {},
          "execution_count": 10
        }
      ]
    },
    {
      "cell_type": "code",
      "metadata": {
        "colab": {
          "base_uri": "https://localhost:8080/"
        },
        "id": "0tWAsVq0SlfY",
        "outputId": "bb53a0ac-2a03-4e5b-bf7b-8235e3e695e3"
      },
      "source": [
        "movies.shape"
      ],
      "execution_count": null,
      "outputs": [
        {
          "output_type": "execute_result",
          "data": {
            "text/plain": [
              "(4803, 7)"
            ]
          },
          "metadata": {},
          "execution_count": 11
        }
      ]
    },
    {
      "cell_type": "markdown",
      "metadata": {
        "id": "K6K_i36rUPG7"
      },
      "source": [
        "### **Data Preparation untuk Kolom Genres**"
      ]
    },
    {
      "cell_type": "markdown",
      "metadata": {
        "id": "z6IfinachtZg"
      },
      "source": [
        "**Memvisualisasikan Genres Terbanyak**"
      ]
    },
    {
      "cell_type": "code",
      "metadata": {
        "colab": {
          "base_uri": "https://localhost:8080/",
          "height": 607
        },
        "id": "sm3dr3wJSx8E",
        "outputId": "0983af58-60b2-418c-d48c-08fe185f120d"
      },
      "source": [
        "movies['genres'] = movies['genres'].str.strip('[]').str.replace(' ','').str.replace(\"'\",'')\n",
        "movies['genres'] = movies['genres'].str.split(',')\n",
        "\n",
        "plt.subplots(figsize=(12,10))\n",
        "list1 = []\n",
        "for i in movies['genres']:\n",
        "    list1.extend(i)\n",
        "ax = pd.Series(list1).value_counts()[:10].sort_values(ascending=True).plot.barh(width=0.9)\n",
        "for i, v in enumerate(pd.Series(list1).value_counts()[:10].sort_values(ascending=True).values): \n",
        "    ax.text(.8, i, v,fontsize=12,color='white',weight='bold')\n",
        "plt.title('Top Genres')\n",
        "plt.show()"
      ],
      "execution_count": null,
      "outputs": [
        {
          "output_type": "display_data",
          "data": {
            "image/png": "[encoded data removed]",
            "text/plain": [
              "<Figure size 864x720 with 1 Axes>"
            ]
          },
          "metadata": {
            "needs_background": "light"
          }
        }
      ]
    },
    {
      "cell_type": "markdown",
      "metadata": {
        "id": "K4UzA7yRh0mY"
      },
      "source": [
        "**Menampilkan list genre yang unik pada dataset**"
      ]
    },
    {
      "cell_type": "code",
      "metadata": {
        "colab": {
          "base_uri": "https://localhost:8080/"
        },
        "id": "DvLP1F4ZTl-k",
        "outputId": "79aa0d09-bf02-4c56-aa4b-0dbdb8a14450"
      },
      "source": [
        "genreList = []\n",
        "for index, row in movies.iterrows():\n",
        "    genres = row[\"genres\"]\n",
        "    \n",
        "    for genre in genres:\n",
        "        if genre not in genreList:\n",
        "            genreList.append(genre)\n",
        "genreList[:10]"
      ],
      "execution_count": null,
      "outputs": [
        {
          "output_type": "execute_result",
          "data": {
            "text/plain": [
              "['Action',\n",
              " 'Adventure',\n",
              " 'Fantasy',\n",
              " 'ScienceFiction',\n",
              " 'Crime',\n",
              " 'Drama',\n",
              " 'Thriller',\n",
              " 'Animation',\n",
              " 'Family',\n",
              " 'Western']"
            ]
          },
          "metadata": {},
          "execution_count": 13
        }
      ]
    },
    {
      "cell_type": "markdown",
      "metadata": {
        "id": "su5TuM98RAmk"
      },
      "source": [
        "##### **One Hot Encoding untuk Genres**"
      ]
    },
    {
      "cell_type": "code",
      "metadata": {
        "colab": {
          "base_uri": "https://localhost:8080/"
        },
        "id": "bi4XB-TOUBNb",
        "outputId": "82d0c46e-73b5-4abe-c3f9-53594819c4a1"
      },
      "source": [
        "def binary(genre_list):\n",
        "    binaryList = []\n",
        "    \n",
        "    for genre in genreList:\n",
        "        if genre in genre_list:\n",
        "            binaryList.append(1)\n",
        "        else:\n",
        "            binaryList.append(0)\n",
        "    \n",
        "    return binaryList\n",
        "\n",
        "movies['genres_bin'] = movies['genres'].apply(lambda x: binary(x))\n",
        "movies['genres_bin'].head()"
      ],
      "execution_count": null,
      "outputs": [
        {
          "output_type": "execute_result",
          "data": {
            "text/plain": [
              "0    [1, 1, 1, 1, 0, 0, 0, 0, 0, 0, 0, 0, 0, 0, 0, ...\n",
              "1    [1, 1, 1, 0, 0, 0, 0, 0, 0, 0, 0, 0, 0, 0, 0, ...\n",
              "2    [1, 1, 0, 0, 1, 0, 0, 0, 0, 0, 0, 0, 0, 0, 0, ...\n",
              "3    [1, 0, 0, 0, 1, 1, 1, 0, 0, 0, 0, 0, 0, 0, 0, ...\n",
              "4    [1, 1, 0, 1, 0, 0, 0, 0, 0, 0, 0, 0, 0, 0, 0, ...\n",
              "Name: genres_bin, dtype: object"
            ]
          },
          "metadata": {},
          "execution_count": 14
        }
      ]
    },
    {
      "cell_type": "markdown",
      "metadata": {
        "id": "kxjIqNlRVT1b"
      },
      "source": [
        "### **Data Preparation untuk Kolom Cast**"
      ]
    },
    {
      "cell_type": "code",
      "metadata": {
        "id": "LCfWgRWqVWDx"
      },
      "source": [
        "movies['cast'] = movies['cast'].str.strip('[]').str.replace(' ','').str.replace(\"'\",'').str.replace('\"','')\n",
        "movies['cast'] = movies['cast'].str.split(',')\n",
        "\n",
        "for i,j in zip(movies['cast'],movies.index):\n",
        "    list2 = []\n",
        "    list2 = i[:4]\n",
        "    movies.loc[j,'cast'] = str(list2)\n",
        "movies['cast'] = movies['cast'].str.strip('[]').str.replace(' ','').str.replace(\"'\",'')\n",
        "movies['cast'] = movies['cast'].str.split(',')\n",
        "for i,j in zip(movies['cast'],movies.index):\n",
        "    list2 = []\n",
        "    list2 = i\n",
        "    list2.sort()\n",
        "    movies.loc[j,'cast'] = str(list2)\n",
        "movies['cast']=movies['cast'].str.strip('[]').str.replace(' ','').str.replace(\"'\",'')"
      ],
      "execution_count": null,
      "outputs": []
    },
    {
      "cell_type": "markdown",
      "metadata": {
        "id": "ViVqcue5iFyC"
      },
      "source": [
        "##### **One Hot Encoding untuk Kolom Cast**"
      ]
    },
    {
      "cell_type": "code",
      "metadata": {
        "colab": {
          "base_uri": "https://localhost:8080/"
        },
        "id": "pwA53iHaiEzA",
        "outputId": "edb85c9d-be36-44fa-ed67-29402c7cc37a"
      },
      "source": [
        "castList = []\n",
        "for index, row in movies.iterrows():\n",
        "    cast = row[\"cast\"]\n",
        "    \n",
        "    for i in cast:\n",
        "        if i not in castList:\n",
        "            castList.append(i)\n",
        "\n",
        "def binary(cast_list):\n",
        "    binaryList = []\n",
        "    \n",
        "    for genre in castList:\n",
        "        if genre in cast_list:\n",
        "            binaryList.append(1)\n",
        "        else:\n",
        "            binaryList.append(0)\n",
        "    \n",
        "    return binaryList\n",
        "\n",
        "movies['cast_bin'] = movies['cast'].apply(lambda x: binary(x))\n",
        "movies['cast_bin'].head()"
      ],
      "execution_count": null,
      "outputs": [
        {
          "output_type": "execute_result",
          "data": {
            "text/plain": [
              "0    [1, 1, 1, 1, 1, 1, 1, 1, 1, 1, 1, 1, 1, 1, 1, ...\n",
              "1    [1, 1, 1, 0, 1, 1, 1, 1, 1, 1, 1, 1, 0, 1, 1, ...\n",
              "2    [1, 1, 0, 1, 1, 1, 1, 1, 1, 1, 1, 1, 1, 1, 1, ...\n",
              "3    [0, 1, 1, 0, 0, 1, 1, 1, 1, 1, 0, 1, 0, 1, 1, ...\n",
              "4    [1, 1, 1, 1, 1, 1, 1, 1, 1, 1, 0, 1, 0, 1, 1, ...\n",
              "Name: cast_bin, dtype: object"
            ]
          },
          "metadata": {},
          "execution_count": 16
        }
      ]
    },
    {
      "cell_type": "markdown",
      "metadata": {
        "id": "kJ_w-PjSV4SY"
      },
      "source": [
        "### **Data Preparation untuk Kolom Director**"
      ]
    },
    {
      "cell_type": "markdown",
      "metadata": {
        "id": "0zi5O7v4irog"
      },
      "source": [
        "##### **One Hot Encoding untuk Kolom Director**"
      ]
    },
    {
      "cell_type": "code",
      "metadata": {
        "colab": {
          "base_uri": "https://localhost:8080/",
          "height": 289
        },
        "id": "0GDxB7tPV9Ks",
        "outputId": "3498829b-702b-4b09-9423-8f07fcd91780"
      },
      "source": [
        "def xstr(s):\n",
        "    if s is None:\n",
        "        return ''\n",
        "    return str(s)\n",
        "movies['director'] = movies['director'].apply(xstr)\n",
        "\n",
        "directorList=[]\n",
        "for i in movies['director']:\n",
        "    if i not in directorList:\n",
        "        directorList.append(i)\n",
        "\n",
        "def binary(director_list):\n",
        "    binaryList = []  \n",
        "    for direct in directorList:\n",
        "        if direct in director_list:\n",
        "            binaryList.append(1)\n",
        "        else:\n",
        "            binaryList.append(0)\n",
        "    return binaryList\n",
        "\n",
        "movies['director_bin'] = movies['director'].apply(lambda x: binary(x))\n",
        "movies.head()"
      ],
      "execution_count": null,
      "outputs": [
        {
          "output_type": "execute_result",
          "data": {
            "text/html": [
              "<div>\n",
              "<style scoped>\n",
              "    .dataframe tbody tr th:only-of-type {\n",
              "        vertical-align: middle;\n",
              "    }\n",
              "\n",
              "    .dataframe tbody tr th {\n",
              "        vertical-align: top;\n",
              "    }\n",
              "\n",
              "    .dataframe thead th {\n",
              "        text-align: right;\n",
              "    }\n",
              "</style>\n",
              "<table border=\"1\" class=\"dataframe\">\n",
              "  <thead>\n",
              "    <tr style=\"text-align: right;\">\n",
              "      <th></th>\n",
              "      <th>original_title</th>\n",
              "      <th>genres</th>\n",
              "      <th>vote_average</th>\n",
              "      <th>genres_bin</th>\n",
              "      <th>cast_bin</th>\n",
              "      <th>new_id</th>\n",
              "      <th>director</th>\n",
              "      <th>director_bin</th>\n",
              "      <th>words_bin</th>\n",
              "    </tr>\n",
              "  </thead>\n",
              "  <tbody>\n",
              "    <tr>\n",
              "      <th>0</th>\n",
              "      <td>Avatar</td>\n",
              "      <td>[Action, Adventure, Fantasy, ScienceFiction]</td>\n",
              "      <td>7.2</td>\n",
              "      <td>[1, 1, 1, 1, 0, 0, 0, 0, 0, 0, 0, 0, 0, 0, 0, ...</td>\n",
              "      <td>[1, 1, 1, 1, 1, 1, 1, 1, 1, 1, 1, 1, 1, 1, 1, ...</td>\n",
              "      <td>0</td>\n",
              "      <td>James Cameron</td>\n",
              "      <td>[1, 0, 0, 0, 0, 0, 0, 0, 0, 0, 0, 0, 0, 0, 0, ...</td>\n",
              "      <td>[1, 1, 1, 1, 1, 1, 1, 1, 1, 1, 1, 1, 1, 1, 1, ...</td>\n",
              "    </tr>\n",
              "    <tr>\n",
              "      <th>1</th>\n",
              "      <td>Pirates of the Caribbean: At World's End</td>\n",
              "      <td>[Adventure, Fantasy, Action]</td>\n",
              "      <td>6.9</td>\n",
              "      <td>[1, 1, 1, 0, 0, 0, 0, 0, 0, 0, 0, 0, 0, 0, 0, ...</td>\n",
              "      <td>[1, 1, 1, 0, 1, 1, 1, 1, 1, 1, 1, 1, 0, 1, 1, ...</td>\n",
              "      <td>1</td>\n",
              "      <td>Gore Verbinski</td>\n",
              "      <td>[0, 1, 0, 0, 0, 0, 0, 0, 0, 0, 0, 0, 0, 0, 0, ...</td>\n",
              "      <td>[0, 0, 0, 0, 0, 0, 0, 0, 0, 0, 0, 0, 0, 0, 0, ...</td>\n",
              "    </tr>\n",
              "    <tr>\n",
              "      <th>2</th>\n",
              "      <td>Spectre</td>\n",
              "      <td>[Action, Adventure, Crime]</td>\n",
              "      <td>6.3</td>\n",
              "      <td>[1, 1, 0, 0, 1, 0, 0, 0, 0, 0, 0, 0, 0, 0, 0, ...</td>\n",
              "      <td>[1, 1, 0, 1, 1, 1, 1, 1, 1, 1, 1, 1, 1, 1, 1, ...</td>\n",
              "      <td>2</td>\n",
              "      <td>Sam Mendes</td>\n",
              "      <td>[0, 0, 1, 0, 0, 0, 0, 0, 0, 0, 0, 0, 0, 0, 0, ...</td>\n",
              "      <td>[0, 0, 0, 0, 0, 0, 0, 0, 0, 0, 0, 0, 0, 0, 0, ...</td>\n",
              "    </tr>\n",
              "    <tr>\n",
              "      <th>3</th>\n",
              "      <td>The Dark Knight Rises</td>\n",
              "      <td>[Action, Crime, Drama, Thriller]</td>\n",
              "      <td>7.6</td>\n",
              "      <td>[1, 0, 0, 0, 1, 1, 1, 0, 0, 0, 0, 0, 0, 0, 0, ...</td>\n",
              "      <td>[0, 1, 1, 0, 0, 1, 1, 1, 1, 1, 0, 1, 0, 1, 1, ...</td>\n",
              "      <td>3</td>\n",
              "      <td>Christopher Nolan</td>\n",
              "      <td>[0, 0, 0, 1, 0, 0, 0, 0, 0, 0, 0, 0, 0, 0, 0, ...</td>\n",
              "      <td>[0, 0, 0, 0, 0, 0, 0, 0, 0, 0, 0, 0, 0, 0, 0, ...</td>\n",
              "    </tr>\n",
              "    <tr>\n",
              "      <th>4</th>\n",
              "      <td>John Carter</td>\n",
              "      <td>[Action, Adventure, ScienceFiction]</td>\n",
              "      <td>6.1</td>\n",
              "      <td>[1, 1, 0, 1, 0, 0, 0, 0, 0, 0, 0, 0, 0, 0, 0, ...</td>\n",
              "      <td>[1, 1, 1, 1, 1, 1, 1, 1, 1, 1, 0, 1, 0, 1, 1, ...</td>\n",
              "      <td>4</td>\n",
              "      <td>Andrew Stanton</td>\n",
              "      <td>[0, 0, 0, 0, 1, 0, 0, 0, 0, 0, 0, 0, 0, 0, 0, ...</td>\n",
              "      <td>[1, 1, 0, 0, 0, 0, 0, 0, 0, 0, 0, 0, 0, 0, 0, ...</td>\n",
              "    </tr>\n",
              "  </tbody>\n",
              "</table>\n",
              "</div>"
            ],
            "text/plain": [
              "                             original_title  ...                                          words_bin\n",
              "0                                    Avatar  ...  [1, 1, 1, 1, 1, 1, 1, 1, 1, 1, 1, 1, 1, 1, 1, ...\n",
              "1  Pirates of the Caribbean: At World's End  ...  [0, 0, 0, 0, 0, 0, 0, 0, 0, 0, 0, 0, 0, 0, 0, ...\n",
              "2                                   Spectre  ...  [0, 0, 0, 0, 0, 0, 0, 0, 0, 0, 0, 0, 0, 0, 0, ...\n",
              "3                     The Dark Knight Rises  ...  [0, 0, 0, 0, 0, 0, 0, 0, 0, 0, 0, 0, 0, 0, 0, ...\n",
              "4                               John Carter  ...  [1, 1, 0, 0, 0, 0, 0, 0, 0, 0, 0, 0, 0, 0, 0, ...\n",
              "\n",
              "[5 rows x 9 columns]"
            ]
          },
          "metadata": {},
          "execution_count": 26
        }
      ]
    },
    {
      "cell_type": "markdown",
      "metadata": {
        "id": "kWFPK_NRWErp"
      },
      "source": [
        "### **Data Preparation for Kolom Keywords**\n"
      ]
    },
    {
      "cell_type": "code",
      "metadata": {
        "colab": {
          "base_uri": "https://localhost:8080/",
          "height": 306
        },
        "id": "kvQ9NFQrW6sp",
        "outputId": "ff8a7124-19b4-4634-d05b-b728b82cf35c"
      },
      "source": [
        "movies['keywords'] = movies['keywords'].str.strip('[]').str.replace(' ','').str.replace(\"'\",'').str.replace('\"','')\n",
        "movies['keywords'] = movies['keywords'].str.split(',')\n",
        "for i,j in zip(movies['keywords'],movies.index):\n",
        "    list2 = []\n",
        "    list2 = i\n",
        "    movies.loc[j,'keywords'] = str(list2)\n",
        "movies['keywords'] = movies['keywords'].str.strip('[]').str.replace(' ','').str.replace(\"'\",'')\n",
        "movies['keywords'] = movies['keywords'].str.split(',')\n",
        "for i,j in zip(movies['keywords'],movies.index):\n",
        "    list2 = []\n",
        "    list2 = i\n",
        "    list2.sort()\n",
        "    movies.loc[j,'keywords'] = str(list2)\n",
        "movies['keywords'] = movies['keywords'].str.strip('[]').str.replace(' ','').str.replace(\"'\",'')\n",
        "movies['keywords'] = movies['keywords'].str.split(',')\n",
        "\n",
        "words_list = []\n",
        "for index, row in movies.iterrows():\n",
        "    genres = row[\"keywords\"]\n",
        "    \n",
        "    for genre in genres:\n",
        "        if genre not in words_list:\n",
        "            words_list.append(genre)\n",
        "\n",
        "def binary(words):\n",
        "    binaryList = []\n",
        "    for genre in words_list:\n",
        "        if genre in words:\n",
        "            binaryList.append(1)\n",
        "        else:\n",
        "            binaryList.append(0)\n",
        "    return binaryList\n",
        "\n",
        "movies['words_bin'] = movies['keywords'].apply(lambda x: binary(x))\n",
        "movies = movies[(movies['vote_average']!=0)] \n",
        "movies = movies[movies['director']!='']\n",
        "movies.head()"
      ],
      "execution_count": null,
      "outputs": [
        {
          "output_type": "execute_result",
          "data": {
            "text/html": [
              "<div>\n",
              "<style scoped>\n",
              "    .dataframe tbody tr th:only-of-type {\n",
              "        vertical-align: middle;\n",
              "    }\n",
              "\n",
              "    .dataframe tbody tr th {\n",
              "        vertical-align: top;\n",
              "    }\n",
              "\n",
              "    .dataframe thead th {\n",
              "        text-align: right;\n",
              "    }\n",
              "</style>\n",
              "<table border=\"1\" class=\"dataframe\">\n",
              "  <thead>\n",
              "    <tr style=\"text-align: right;\">\n",
              "      <th></th>\n",
              "      <th>id</th>\n",
              "      <th>original_title</th>\n",
              "      <th>genres</th>\n",
              "      <th>cast</th>\n",
              "      <th>vote_average</th>\n",
              "      <th>director</th>\n",
              "      <th>keywords</th>\n",
              "      <th>genres_bin</th>\n",
              "      <th>cast_bin</th>\n",
              "      <th>director_bin</th>\n",
              "      <th>words_bin</th>\n",
              "    </tr>\n",
              "  </thead>\n",
              "  <tbody>\n",
              "    <tr>\n",
              "      <th>0</th>\n",
              "      <td>19995</td>\n",
              "      <td>Avatar</td>\n",
              "      <td>[Action, Adventure, Fantasy, ScienceFiction]</td>\n",
              "      <td>SamWorthington,SigourneyWeaver,StephenLang,Zoe...</td>\n",
              "      <td>7.2</td>\n",
              "      <td>James Cameron</td>\n",
              "      <td>[3d, alien, alienplanet, antiwar, battle, cgi,...</td>\n",
              "      <td>[1, 1, 1, 1, 0, 0, 0, 0, 0, 0, 0, 0, 0, 0, 0, ...</td>\n",
              "      <td>[1, 1, 1, 1, 1, 1, 1, 1, 1, 1, 1, 1, 1, 1, 1, ...</td>\n",
              "      <td>[1, 0, 0, 0, 0, 0, 0, 0, 0, 0, 0, 0, 0, 0, 0, ...</td>\n",
              "      <td>[1, 1, 1, 1, 1, 1, 1, 1, 1, 1, 1, 1, 1, 1, 1, ...</td>\n",
              "    </tr>\n",
              "    <tr>\n",
              "      <th>1</th>\n",
              "      <td>285</td>\n",
              "      <td>Pirates of the Caribbean: At World's End</td>\n",
              "      <td>[Adventure, Fantasy, Action]</td>\n",
              "      <td>JohnnyDepp,KeiraKnightley,OrlandoBloom,Stellan...</td>\n",
              "      <td>6.9</td>\n",
              "      <td>Gore Verbinski</td>\n",
              "      <td>[aftercreditsstinger, afterlife, alliance, cal...</td>\n",
              "      <td>[1, 1, 1, 0, 0, 0, 0, 0, 0, 0, 0, 0, 0, 0, 0, ...</td>\n",
              "      <td>[1, 1, 1, 0, 1, 1, 1, 1, 1, 1, 1, 1, 0, 1, 1, ...</td>\n",
              "      <td>[0, 1, 0, 0, 0, 0, 0, 0, 0, 0, 0, 0, 0, 0, 0, ...</td>\n",
              "      <td>[0, 0, 0, 0, 0, 0, 0, 0, 0, 0, 0, 0, 0, 0, 0, ...</td>\n",
              "    </tr>\n",
              "    <tr>\n",
              "      <th>2</th>\n",
              "      <td>206647</td>\n",
              "      <td>Spectre</td>\n",
              "      <td>[Action, Adventure, Crime]</td>\n",
              "      <td>ChristophWaltz,DanielCraig,LéaSeydoux,RalphFie...</td>\n",
              "      <td>6.3</td>\n",
              "      <td>Sam Mendes</td>\n",
              "      <td>[basedonnovel, britishsecretservice, mi6, secr...</td>\n",
              "      <td>[1, 1, 0, 0, 1, 0, 0, 0, 0, 0, 0, 0, 0, 0, 0, ...</td>\n",
              "      <td>[1, 1, 0, 1, 1, 1, 1, 1, 1, 1, 1, 1, 1, 1, 1, ...</td>\n",
              "      <td>[0, 0, 1, 0, 0, 0, 0, 0, 0, 0, 0, 0, 0, 0, 0, ...</td>\n",
              "      <td>[0, 0, 0, 0, 0, 0, 0, 0, 0, 0, 0, 0, 0, 0, 0, ...</td>\n",
              "    </tr>\n",
              "    <tr>\n",
              "      <th>3</th>\n",
              "      <td>49026</td>\n",
              "      <td>The Dark Knight Rises</td>\n",
              "      <td>[Action, Crime, Drama, Thriller]</td>\n",
              "      <td>AnneHathaway,ChristianBale,GaryOldman,MichaelC...</td>\n",
              "      <td>7.6</td>\n",
              "      <td>Christopher Nolan</td>\n",
              "      <td>[batman, burglar, catburglar, catwoman, cover-...</td>\n",
              "      <td>[1, 0, 0, 0, 1, 1, 1, 0, 0, 0, 0, 0, 0, 0, 0, ...</td>\n",
              "      <td>[0, 1, 1, 0, 0, 1, 1, 1, 1, 1, 0, 1, 0, 1, 1, ...</td>\n",
              "      <td>[0, 0, 0, 1, 0, 0, 0, 0, 0, 0, 0, 0, 0, 0, 0, ...</td>\n",
              "      <td>[0, 0, 0, 0, 0, 0, 0, 0, 0, 0, 0, 0, 0, 0, 0, ...</td>\n",
              "    </tr>\n",
              "    <tr>\n",
              "      <th>4</th>\n",
              "      <td>49529</td>\n",
              "      <td>John Carter</td>\n",
              "      <td>[Action, Adventure, ScienceFiction]</td>\n",
              "      <td>LynnCollins,SamanthaMorton,TaylorKitsch,Willem...</td>\n",
              "      <td>6.1</td>\n",
              "      <td>Andrew Stanton</td>\n",
              "      <td>[19thcentury, 3d, alien, alienrace, basedonnov...</td>\n",
              "      <td>[1, 1, 0, 1, 0, 0, 0, 0, 0, 0, 0, 0, 0, 0, 0, ...</td>\n",
              "      <td>[1, 1, 1, 1, 1, 1, 1, 1, 1, 1, 0, 1, 0, 1, 1, ...</td>\n",
              "      <td>[0, 0, 0, 0, 1, 0, 0, 0, 0, 0, 0, 0, 0, 0, 0, ...</td>\n",
              "      <td>[1, 1, 0, 0, 0, 0, 0, 0, 0, 0, 0, 0, 0, 0, 0, ...</td>\n",
              "    </tr>\n",
              "  </tbody>\n",
              "</table>\n",
              "</div>"
            ],
            "text/plain": [
              "       id  ...                                          words_bin\n",
              "0   19995  ...  [1, 1, 1, 1, 1, 1, 1, 1, 1, 1, 1, 1, 1, 1, 1, ...\n",
              "1     285  ...  [0, 0, 0, 0, 0, 0, 0, 0, 0, 0, 0, 0, 0, 0, 0, ...\n",
              "2  206647  ...  [0, 0, 0, 0, 0, 0, 0, 0, 0, 0, 0, 0, 0, 0, 0, ...\n",
              "3   49026  ...  [0, 0, 0, 0, 0, 0, 0, 0, 0, 0, 0, 0, 0, 0, 0, ...\n",
              "4   49529  ...  [1, 1, 0, 0, 0, 0, 0, 0, 0, 0, 0, 0, 0, 0, 0, ...\n",
              "\n",
              "[5 rows x 11 columns]"
            ]
          },
          "metadata": {},
          "execution_count": 18
        }
      ]
    },
    {
      "cell_type": "markdown",
      "metadata": {
        "id": "h0JzefR-a0ae"
      },
      "source": [
        "### **Find Similarity between Movies**"
      ]
    },
    {
      "cell_type": "markdown",
      "metadata": {
        "id": "ndCNRezbjmZw"
      },
      "source": [
        "**Membuat fungsi Similarity() dengan metriks distance Cosine Similarity untuk mencari kemiripan antara dua film**"
      ]
    },
    {
      "cell_type": "code",
      "metadata": {
        "id": "Jskut9KuX42N"
      },
      "source": [
        "from scipy import spatial\n",
        "\n",
        "def Similarity(movieId1, movieId2):\n",
        "    a = movies.iloc[movieId1]\n",
        "    b = movies.iloc[movieId2]\n",
        "    \n",
        "    genresA = a['genres_bin']\n",
        "    genresB = b['genres_bin']\n",
        "    \n",
        "    genreDistance = spatial.distance.cosine(genresA, genresB)\n",
        "    \n",
        "    scoreA = a['cast_bin']\n",
        "    scoreB = b['cast_bin']\n",
        "    scoreDistance = spatial.distance.cosine(scoreA, scoreB)\n",
        "    \n",
        "    directA = a['director_bin']\n",
        "    directB = b['director_bin']\n",
        "    directDistance = spatial.distance.cosine(directA, directB)\n",
        "    \n",
        "    wordsA = a['words_bin']\n",
        "    wordsB = b['words_bin']\n",
        "    wordsDistance = spatial.distance.cosine(directA, directB)\n",
        "    return genreDistance + directDistance + scoreDistance + wordsDistance"
      ],
      "execution_count": null,
      "outputs": []
    },
    {
      "cell_type": "markdown",
      "metadata": {
        "id": "DtqTtk7HjOUZ"
      },
      "source": [
        "**Mengecek similarity antara dua film dengan fungsi Similarity()**"
      ]
    },
    {
      "cell_type": "code",
      "metadata": {
        "id": "5c9G_nWWYAIv",
        "colab": {
          "base_uri": "https://localhost:8080/"
        },
        "outputId": "6161e05d-3158-4430-cf93-f2d618341592"
      },
      "source": [
        "Similarity(2,4) "
      ],
      "execution_count": null,
      "outputs": [
        {
          "output_type": "execute_result",
          "data": {
            "text/plain": [
              "1.6381516362402322"
            ]
          },
          "metadata": {},
          "execution_count": 20
        }
      ]
    },
    {
      "cell_type": "code",
      "metadata": {
        "colab": {
          "base_uri": "https://localhost:8080/"
        },
        "id": "A7sTiv2SKaJ2",
        "outputId": "8263a64c-70f5-4547-d994-4eed8cf442f3"
      },
      "source": [
        "Similarity(9,12)"
      ],
      "execution_count": null,
      "outputs": [
        {
          "output_type": "execute_result",
          "data": {
            "text/plain": [
              "1.3472087901661332"
            ]
          },
          "metadata": {},
          "execution_count": 21
        }
      ]
    },
    {
      "cell_type": "code",
      "metadata": {
        "colab": {
          "base_uri": "https://localhost:8080/",
          "height": 289
        },
        "id": "PjQPuR-fbJX0",
        "outputId": "57a26a20-72b9-4312-c4d4-fe7be13b55f3"
      },
      "source": [
        "new_id = list(range(0,movies.shape[0]))\n",
        "movies['new_id']=new_id\n",
        "movies=movies[['original_title','genres','vote_average','genres_bin','cast_bin','new_id','director','director_bin','words_bin']]\n",
        "movies.head()"
      ],
      "execution_count": null,
      "outputs": [
        {
          "output_type": "execute_result",
          "data": {
            "text/html": [
              "<div>\n",
              "<style scoped>\n",
              "    .dataframe tbody tr th:only-of-type {\n",
              "        vertical-align: middle;\n",
              "    }\n",
              "\n",
              "    .dataframe tbody tr th {\n",
              "        vertical-align: top;\n",
              "    }\n",
              "\n",
              "    .dataframe thead th {\n",
              "        text-align: right;\n",
              "    }\n",
              "</style>\n",
              "<table border=\"1\" class=\"dataframe\">\n",
              "  <thead>\n",
              "    <tr style=\"text-align: right;\">\n",
              "      <th></th>\n",
              "      <th>original_title</th>\n",
              "      <th>genres</th>\n",
              "      <th>vote_average</th>\n",
              "      <th>genres_bin</th>\n",
              "      <th>cast_bin</th>\n",
              "      <th>new_id</th>\n",
              "      <th>director</th>\n",
              "      <th>director_bin</th>\n",
              "      <th>words_bin</th>\n",
              "    </tr>\n",
              "  </thead>\n",
              "  <tbody>\n",
              "    <tr>\n",
              "      <th>0</th>\n",
              "      <td>Avatar</td>\n",
              "      <td>[Action, Adventure, Fantasy, ScienceFiction]</td>\n",
              "      <td>7.2</td>\n",
              "      <td>[1, 1, 1, 1, 0, 0, 0, 0, 0, 0, 0, 0, 0, 0, 0, ...</td>\n",
              "      <td>[1, 1, 1, 1, 1, 1, 1, 1, 1, 1, 1, 1, 1, 1, 1, ...</td>\n",
              "      <td>0</td>\n",
              "      <td>James Cameron</td>\n",
              "      <td>[1, 0, 0, 0, 0, 0, 0, 0, 0, 0, 0, 0, 0, 0, 0, ...</td>\n",
              "      <td>[1, 1, 1, 1, 1, 1, 1, 1, 1, 1, 1, 1, 1, 1, 1, ...</td>\n",
              "    </tr>\n",
              "    <tr>\n",
              "      <th>1</th>\n",
              "      <td>Pirates of the Caribbean: At World's End</td>\n",
              "      <td>[Adventure, Fantasy, Action]</td>\n",
              "      <td>6.9</td>\n",
              "      <td>[1, 1, 1, 0, 0, 0, 0, 0, 0, 0, 0, 0, 0, 0, 0, ...</td>\n",
              "      <td>[1, 1, 1, 0, 1, 1, 1, 1, 1, 1, 1, 1, 0, 1, 1, ...</td>\n",
              "      <td>1</td>\n",
              "      <td>Gore Verbinski</td>\n",
              "      <td>[0, 1, 0, 0, 0, 0, 0, 0, 0, 0, 0, 0, 0, 0, 0, ...</td>\n",
              "      <td>[0, 0, 0, 0, 0, 0, 0, 0, 0, 0, 0, 0, 0, 0, 0, ...</td>\n",
              "    </tr>\n",
              "    <tr>\n",
              "      <th>2</th>\n",
              "      <td>Spectre</td>\n",
              "      <td>[Action, Adventure, Crime]</td>\n",
              "      <td>6.3</td>\n",
              "      <td>[1, 1, 0, 0, 1, 0, 0, 0, 0, 0, 0, 0, 0, 0, 0, ...</td>\n",
              "      <td>[1, 1, 0, 1, 1, 1, 1, 1, 1, 1, 1, 1, 1, 1, 1, ...</td>\n",
              "      <td>2</td>\n",
              "      <td>Sam Mendes</td>\n",
              "      <td>[0, 0, 1, 0, 0, 0, 0, 0, 0, 0, 0, 0, 0, 0, 0, ...</td>\n",
              "      <td>[0, 0, 0, 0, 0, 0, 0, 0, 0, 0, 0, 0, 0, 0, 0, ...</td>\n",
              "    </tr>\n",
              "    <tr>\n",
              "      <th>3</th>\n",
              "      <td>The Dark Knight Rises</td>\n",
              "      <td>[Action, Crime, Drama, Thriller]</td>\n",
              "      <td>7.6</td>\n",
              "      <td>[1, 0, 0, 0, 1, 1, 1, 0, 0, 0, 0, 0, 0, 0, 0, ...</td>\n",
              "      <td>[0, 1, 1, 0, 0, 1, 1, 1, 1, 1, 0, 1, 0, 1, 1, ...</td>\n",
              "      <td>3</td>\n",
              "      <td>Christopher Nolan</td>\n",
              "      <td>[0, 0, 0, 1, 0, 0, 0, 0, 0, 0, 0, 0, 0, 0, 0, ...</td>\n",
              "      <td>[0, 0, 0, 0, 0, 0, 0, 0, 0, 0, 0, 0, 0, 0, 0, ...</td>\n",
              "    </tr>\n",
              "    <tr>\n",
              "      <th>4</th>\n",
              "      <td>John Carter</td>\n",
              "      <td>[Action, Adventure, ScienceFiction]</td>\n",
              "      <td>6.1</td>\n",
              "      <td>[1, 1, 0, 1, 0, 0, 0, 0, 0, 0, 0, 0, 0, 0, 0, ...</td>\n",
              "      <td>[1, 1, 1, 1, 1, 1, 1, 1, 1, 1, 0, 1, 0, 1, 1, ...</td>\n",
              "      <td>4</td>\n",
              "      <td>Andrew Stanton</td>\n",
              "      <td>[0, 0, 0, 0, 1, 0, 0, 0, 0, 0, 0, 0, 0, 0, 0, ...</td>\n",
              "      <td>[1, 1, 0, 0, 0, 0, 0, 0, 0, 0, 0, 0, 0, 0, 0, ...</td>\n",
              "    </tr>\n",
              "  </tbody>\n",
              "</table>\n",
              "</div>"
            ],
            "text/plain": [
              "                             original_title  ...                                          words_bin\n",
              "0                                    Avatar  ...  [1, 1, 1, 1, 1, 1, 1, 1, 1, 1, 1, 1, 1, 1, 1, ...\n",
              "1  Pirates of the Caribbean: At World's End  ...  [0, 0, 0, 0, 0, 0, 0, 0, 0, 0, 0, 0, 0, 0, 0, ...\n",
              "2                                   Spectre  ...  [0, 0, 0, 0, 0, 0, 0, 0, 0, 0, 0, 0, 0, 0, 0, ...\n",
              "3                     The Dark Knight Rises  ...  [0, 0, 0, 0, 0, 0, 0, 0, 0, 0, 0, 0, 0, 0, 0, ...\n",
              "4                               John Carter  ...  [1, 1, 0, 0, 0, 0, 0, 0, 0, 0, 0, 0, 0, 0, 0, ...\n",
              "\n",
              "[5 rows x 9 columns]"
            ]
          },
          "metadata": {},
          "execution_count": 22
        }
      ]
    },
    {
      "cell_type": "markdown",
      "metadata": {
        "id": "sB2134NobPgk"
      },
      "source": [
        "### **Recommend Movies Function using KNN**"
      ]
    },
    {
      "cell_type": "markdown",
      "metadata": {
        "id": "gGQaOJ9wi-HR"
      },
      "source": [
        "Kemudian kita menggunakan fungsi similarity yang telah kita buat sebelumnya pada algoritma K-NN. Kita membuat fungsi recommend_movies() untuk merekomendasikan film dan memprediksi rating seperti sebagai berikut: "
      ]
    },
    {
      "cell_type": "code",
      "metadata": {
        "id": "cbfeYKu5bPPM"
      },
      "source": [
        "import operator\n",
        "\n",
        "def recommend_movies(name):\n",
        "    new_movie = movies[movies['original_title'].str.contains(name)].iloc[0].to_frame().T\n",
        "    print('Selected Movie: ',new_movie.original_title.values[0])\n",
        "    def getNeighbors(baseMovie, K):\n",
        "        distances = []\n",
        "    \n",
        "        for index, movie in movies.iterrows():\n",
        "            if movie['new_id'] != baseMovie['new_id'].values[0]:\n",
        "                dist = Similarity(baseMovie['new_id'].values[0], movie['new_id'])\n",
        "                distances.append((movie['new_id'], dist))\n",
        "    \n",
        "        distances.sort(key=operator.itemgetter(1))\n",
        "        neighbors = []\n",
        "    \n",
        "        for x in range(K):\n",
        "            neighbors.append(distances[x])\n",
        "        return neighbors\n",
        "\n",
        "    K = 10\n",
        "    avgRating = 0\n",
        "    neighbors = getNeighbors(new_movie, K)\n",
        "    \n",
        "    print('\\nRecommended Movies: \\n')\n",
        "    for neighbor in neighbors:\n",
        "        avgRating = avgRating+movies.iloc[neighbor[0]][2]  \n",
        "        print( movies.iloc[neighbor[0]][0]+\" | Genres: \"+str(movies.iloc[neighbor[0]][1]).strip('[]').replace(' ','')+\" | Rating: \"+str(movies.iloc[neighbor[0]][2]))\n",
        "    \n",
        "    print('\\n')\n",
        "    avgRating = avgRating/K\n",
        "    print('The predicted rating for %s is: %f' %(new_movie['original_title'].values[0],avgRating))\n",
        "    print('The actual rating for %s is %f' %(new_movie['original_title'].values[0],new_movie['vote_average']))"
      ],
      "execution_count": null,
      "outputs": []
    },
    {
      "cell_type": "markdown",
      "metadata": {
        "id": "WUdYUVVaj0AY"
      },
      "source": [
        "**Memanggil fungsi recommend_movies() yang akan menampilkan 10 film yang mirip dan prediksi rating dari film**"
      ]
    },
    {
      "cell_type": "code",
      "metadata": {
        "colab": {
          "base_uri": "https://localhost:8080/"
        },
        "id": "eyVThwyFbf0U",
        "outputId": "d3f14f0a-d492-41be-d42e-9f55244aa507"
      },
      "source": [
        "recommend_movies('Avengers: Age of Ultron')"
      ],
      "execution_count": null,
      "outputs": [
        {
          "output_type": "stream",
          "name": "stdout",
          "text": [
            "Selected Movie:  Avengers: Age of Ultron\n"
          ]
        },
        {
          "output_type": "stream",
          "name": "stderr",
          "text": [
            "/usr/local/lib/python3.7/dist-packages/scipy/spatial/distance.py:720: RuntimeWarning: invalid value encountered in double_scalars\n",
            "  dist = 1.0 - uv / np.sqrt(uu * vv)\n"
          ]
        },
        {
          "output_type": "stream",
          "name": "stdout",
          "text": [
            "\n",
            "Recommended Movies: \n",
            "\n",
            "The Avengers | Genres: 'ScienceFiction','Action','Adventure' | Rating: 7.4\n",
            "Serenity | Genres: 'ScienceFiction','Action','Adventure','Thriller' | Rating: 7.4\n",
            "Captain America: Civil War | Genres: 'Adventure','Action','ScienceFiction' | Rating: 7.1\n",
            "Captain America: The Winter Soldier | Genres: 'Action','Adventure','ScienceFiction' | Rating: 7.6\n",
            "Pacific Rim | Genres: 'Action','ScienceFiction','Adventure' | Rating: 6.7\n",
            "Independence Day: Resurgence | Genres: 'Action','Adventure','ScienceFiction' | Rating: 4.9\n",
            "Captain America: The First Avenger | Genres: 'Action','Adventure','ScienceFiction' | Rating: 6.6\n",
            "Iron Man | Genres: 'Action','ScienceFiction','Adventure' | Rating: 7.4\n",
            "Megaforce | Genres: 'Adventure','Action','ScienceFiction' | Rating: 3.5\n",
            "Iron Man 3 | Genres: 'Action','Adventure','ScienceFiction' | Rating: 6.8\n",
            "\n",
            "\n",
            "The predicted rating for Avengers: Age of Ultron is: 6.540000\n",
            "The actual rating for Avengers: Age of Ultron is 7.300000\n"
          ]
        }
      ]
    },
    {
      "cell_type": "code",
      "metadata": {
        "colab": {
          "base_uri": "https://localhost:8080/"
        },
        "id": "hoSiuA-pcQr8",
        "outputId": "48809d9a-d6ce-4444-b396-477bffcffc3c"
      },
      "source": [
        "recommend_movies('How to Train Your Dragon')"
      ],
      "execution_count": null,
      "outputs": [
        {
          "output_type": "stream",
          "name": "stdout",
          "text": [
            "Selected Movie:  How to Train Your Dragon\n"
          ]
        },
        {
          "output_type": "stream",
          "name": "stderr",
          "text": [
            "/usr/local/lib/python3.7/dist-packages/scipy/spatial/distance.py:720: RuntimeWarning: invalid value encountered in double_scalars\n",
            "  dist = 1.0 - uv / np.sqrt(uu * vv)\n"
          ]
        },
        {
          "output_type": "stream",
          "name": "stdout",
          "text": [
            "\n",
            "Recommended Movies: \n",
            "\n",
            "The Croods | Genres: 'Adventure','Animation','Comedy','Family','Fantasy' | Rating: 6.8\n",
            "Lilo & Stitch | Genres: 'Animation','Family' | Rating: 7.1\n",
            "Epic | Genres: 'Animation','Adventure','Family','Fantasy' | Rating: 6.4\n",
            "Legend of the Guardians: The Owls of Ga'Hoole | Genres: 'Animation','Adventure','Family','Fantasy' | Rating: 6.5\n",
            "Dragon Nest: Warriors' Dawn | Genres: 'Adventure','Family','Fantasy','Animation' | Rating: 6.8\n",
            "The House of Magic | Genres: 'Family','Fantasy','Animation','Adventure' | Rating: 6.3\n",
            "Arthur et les Minimoys | Genres: 'Adventure','Fantasy','Animation','Family' | Rating: 6.0\n",
            "Mars Needs Moms | Genres: 'Adventure','Animation','Family' | Rating: 5.5\n",
            "The Little Prince | Genres: 'Adventure','Animation','Fantasy' | Rating: 7.6\n",
            "Савва. Сердце воина | Genres: 'Fantasy','Adventure','Animation' | Rating: 6.4\n",
            "\n",
            "\n",
            "The predicted rating for How to Train Your Dragon is: 6.540000\n",
            "The actual rating for How to Train Your Dragon is 7.500000\n"
          ]
        }
      ]
    }
  ]
}